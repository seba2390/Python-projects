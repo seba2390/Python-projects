{
 "cells": [
  {
   "cell_type": "code",
   "execution_count": 6,
   "metadata": {},
   "outputs": [],
   "source": [
    "import numpy as np\n",
    "import scipy.optimize as so\n",
    "import random\n",
    "import matplotlib.pyplot as plt"
   ]
  },
  {
   "cell_type": "code",
   "execution_count": 7,
   "metadata": {},
   "outputs": [],
   "source": [
    "## Functions for handing ANN ##\n",
    "def test_function(x):\n",
    "    return (np.power(x,2)-2.0*x)\n",
    "\n",
    "def activation_function(x):\n",
    "    return np.exp(-x**2)\n",
    "\n",
    "def hidden_neuron(a,b,w,x):\n",
    "    return activation_function((x-a)/b)*w;\n",
    "\n",
    "def network_response(x,xval):\n",
    "    nr_of_neurons = 50\n",
    "    response = 0.0\n",
    "    for i in range(nr_of_neurons):\n",
    "        a,b,w = x[i*3],x[i*3+1],x[i*3+2]\n",
    "        response += hidden_neuron(a,b,w,xval)\n",
    "    return response\n",
    "\n",
    "def cost_function(x):\n",
    "    xvals = [-10.0,-9.0,-8.0,-7.0,-6.0,-5.0,-4.0,-3.0,-2.0,-1.0,0.0,1.0,2.0,3.0,4.0,5.0,6.0,7.0,8.0,9.0,10.0]\n",
    "    yvals = [test_function(xvals[i]) for i in range(len(xvals))]\n",
    "    cost = 0.0\n",
    "    for i in range(len(xvals)):\n",
    "        cost += np.power((network_response(x,xvals[i])-yvals[i]),2)\n",
    "    return cost/len(xvals)"
   ]
  },
  {
   "cell_type": "code",
   "execution_count": 8,
   "metadata": {},
   "outputs": [],
   "source": [
    "### Functions for downhill-simplex ##\n",
    "\n",
    "## Defining a function for doing a reflection of highest point ##\n",
    "def reflection(func,simplex):\n",
    "    ## Creating list of function values of alle points in simplex ##\n",
    "    func_vals = np.array([func(simplex[i]) for i in range(len(simplex))])\n",
    "    ## Finding index of point with highest function val ##\n",
    "    max_index = np.argmax(func_vals)\n",
    "    ## Calculating centroid ##\n",
    "    centroid = np.zeros(len(simplex[0]))\n",
    "    for i in range(len(simplex)):\n",
    "        if i != max_index:\n",
    "            #print(\"centroid:\",centroid, \"simplex[i]\",simplex[i])\n",
    "            centroid += simplex[i]\n",
    "    centroid *= 1.0/(len(simplex)-1.0)\n",
    "    ## Reflection of highest point ##\n",
    "    simplex[max_index] = centroid+(centroid-simplex[max_index])\n",
    "    return simplex[max_index], simplex\n",
    "\n",
    "## Defining a function for doing an expansion of highest point ##   \n",
    "def expansion(func,simplex):\n",
    "    ## Creating list of function values of alle points in simplex ##\n",
    "    func_vals = np.array([func(simplex[i]) for i in range(len(simplex))])\n",
    "    ## Finding index of point with highest function val ##\n",
    "    max_index = np.argmax(func_vals)\n",
    "    ## Calculating centroid ##\n",
    "    centroid = np.zeros(len(simplex[0]))\n",
    "    for i in range(len(simplex)):\n",
    "        if i != max_index:\n",
    "            centroid += simplex[i]\n",
    "    centroid *= 1.0/(len(simplex)-1.0)    \n",
    "    ## Expansion of highest point ##\n",
    "    simplex[max_index] = centroid+2.0*(centroid-simplex[max_index])\n",
    "    return simplex[max_index], simplex \n",
    "\n",
    "## Defining a function for doing a contraction of highest point ##   \n",
    "def contraction(func,simplex):\n",
    "    ## Creating list of function values of alle points in simplex ##\n",
    "    func_vals = np.array([func(simplex[i]) for i in range(len(simplex))])\n",
    "    ## Finding index of point with highest function val ##\n",
    "    max_index = np.argmax(func_vals)\n",
    "    ## Calculating centroid ##\n",
    "    centroid = np.zeros(len(simplex[0]))\n",
    "    for i in range(len(simplex)):\n",
    "        if i != max_index:\n",
    "            centroid += simplex[i]\n",
    "    centroid *= 1.0/(len(simplex)-1.0)    \n",
    "    ## Expansion of highest point ##\n",
    "    simplex[max_index] = centroid+0.5*(simplex[max_index]-centroid)\n",
    "    return simplex[max_index], simplex \n",
    "\n",
    "## Defining a function for doing a reduction of alle points except lowest ##   \n",
    "def reduction(func,simplex):\n",
    "    ## Creating list of function values of alle points in simplex ##\n",
    "    func_vals = np.array([func(simplex[i]) for i in range(len(simplex))])\n",
    "    ## Finding index of point with lowest function val ##\n",
    "    min_index = np.argmin(func_vals)\n",
    "    ## reduction of all points except lowest ##\n",
    "    for i in range(len(simplex)):\n",
    "        if i != min_index:\n",
    "            simplex[i] = 0.5*(simplex[i]+simplex[min_index])\n",
    "    return simplex \n",
    "\n",
    "## Defining a function for calculating the size of the simplex ##\n",
    "def simplex_size(simplex):\n",
    "    # Calculting distances between points in simplex #\n",
    "    distances = []\n",
    "    for i in range(len(simplex)):\n",
    "        for j in range(len(simplex)):\n",
    "            if i < j:\n",
    "                distances.append(np.linalg.norm(simplex[i]-simplex[j]))\n",
    "    return np.sum(distances)\n",
    "\n",
    "def downhill_simplex(func,simplex, tol):\n",
    "    \n",
    "    counter = 0\n",
    "    steps = [[list(simplex[i]) for i in range(len(simplex))]]\n",
    "    current_simplex = simplex\n",
    "    while simplex_size(current_simplex) >= tol and counter < 1000:\n",
    "        ## Creating list of function values of alle points in simplex ##\n",
    "        func_vals = np.array([func(current_simplex[i]) for i in range(len(current_simplex))])\n",
    "        ## Trying reflection ##\n",
    "        reflected_point, reflected_simplex = reflection(func,current_simplex)\n",
    "        if func(reflected_point) < np.min(func_vals):\n",
    "            ## Trying expansion ##\n",
    "            expanded_point, expanded_simplex = expansion(func,current_simplex)\n",
    "            if func(expanded_point) < func(reflected_point):\n",
    "                ## Accepting expansion ##\n",
    "                current_simplex=expanded_simplex\n",
    "            else:\n",
    "                ## Accepting reflection ##\n",
    "                current_simplex=reflected_simplex\n",
    "        else:\n",
    "            if func(reflected_point) < np.max(func_vals):\n",
    "                ## Accepting reflection ##\n",
    "                current_simplex=reflected_simplex\n",
    "            else:\n",
    "                ## Trying contraction ##\n",
    "                contracted_point, contracted_simplex = contraction(func,current_simplex)\n",
    "                if func(contracted_point) < np.max(func_vals):\n",
    "                    ## Accepting contraction ##\n",
    "                    current_simplex=contracted_simplex\n",
    "                else:\n",
    "                    ## computing reduction of simplex ##\n",
    "                    current_simplex=reduction(func,current_simplex)\n",
    "                    \n",
    "        ## Saving current step and incrementing counter ##\n",
    "        temp = [list(current_simplex[i]) for i in range(len(current_simplex))]\n",
    "        steps.append(temp)\n",
    "        counter += 1\n",
    "    print(\"simplex size = \", simplex_size(current_simplex))\n",
    "    return counter, steps"
   ]
  },
  {
   "cell_type": "code",
   "execution_count": 9,
   "metadata": {},
   "outputs": [
    {
     "name": "stdout",
     "output_type": "stream",
     "text": [
      "simplex size =  5.552090180144871e-07\n",
      "nr of steps =  177\n"
     ]
    }
   ],
   "source": [
    "## Generatig random inital simplexes ##\n",
    "nr_parameters = 3\n",
    "nr_neurons = 50\n",
    "init_guess = []\n",
    "for i in range((nr_parameters+1)):\n",
    "    temp = []\n",
    "    for j in range(nr_parameters*nr_neurons):\n",
    "        temp.append(random.uniform(-10,10))\n",
    "    init_guess.append(np.array(temp))\n",
    "\n",
    "## performing downhill simplex ##\n",
    "tol = 0.000001\n",
    "nr_steps, simplex_steps = downhill_simplex(cost_function,init_guess,tol)\n",
    "print(\"nr of steps = \",nr_steps)\n"
   ]
  },
  {
   "cell_type": "code",
   "execution_count": 11,
   "metadata": {},
   "outputs": [
    {
     "data": {
      "image/png": "[encoded data removed]",
      "text/plain": [
       "<Figure size 1440x720 with 1 Axes>"
      ]
     },
     "metadata": {
      "needs_background": "light"
     },
     "output_type": "display_data"
    }
   ],
   "source": [
    "xvals = [-10.0,-9.0,-8.0,-7.0,-6.0,-5.0,-4.0,-3.0,-2.0,-1.0,0.0,1.0,2.0,3.0,4.0,5.0,6.0,7.0,8.0,9.0,10.0]\n",
    "yvals = [test_function(xvals[i]) for i in range(len(xvals))]\n",
    "xs = np.linspace(-10,10,10000)\n",
    "fig, ax = plt.subplots(1,1,figsize=(20,10))\n",
    "ax.plot(xvals,yvals,'ro',label = \"tabulated values\")\n",
    "ax.plot(xs,network_response(simplex_steps[-1][-1],xs), label = \"ML\")\n",
    "ax.legend()\n",
    "ax.grid()\n",
    "plt.show()"
   ]
  },
  {
   "cell_type": "code",
   "execution_count": null,
   "metadata": {},
   "outputs": [],
   "source": []
  }
 ],
 "metadata": {
  "kernelspec": {
   "display_name": "Python 3",
   "language": "python",
   "name": "python3"
  },
  "language_info": {
   "codemirror_mode": {
    "name": "ipython",
    "version": 3
   },
   "file_extension": ".py",
   "mimetype": "text/x-python",
   "name": "python",
   "nbconvert_exporter": "python",
   "pygments_lexer": "ipython3",
   "version": "3.8.5"
  }
 },
 "nbformat": 4,
 "nbformat_minor": 4
}
