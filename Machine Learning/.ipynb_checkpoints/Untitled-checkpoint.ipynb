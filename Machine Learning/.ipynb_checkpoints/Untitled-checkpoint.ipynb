{
 "cells": [
  {
   "cell_type": "code",
   "execution_count": null,
   "metadata": {},
   "outputs": [],
   "source": [
    "import numpy as np\n",
    "import scipy.optimize as so\n",
    "import random\n",
    "import matplotlib.pyplot as plt"
   ]
  },
  {
   "cell_type": "code",
   "execution_count": 7,
   "metadata": {},
   "outputs": [],
   "source": [
    "## f1 = cost_function, f2 = network_response, f3 = hidden_neuron, f4 = activation_function ##\n",
    "\n",
    "def activation_function(x):\n",
    "    return 1.0/(1.0+np.exp(-x))\n",
    "\n",
    "def hidden_neuron(f4,a,b,w,x):\n",
    "    return f4((x-a)/b)*w;\n",
    "\n",
    "def network_response(f3,f4,a,b,w,x):\n",
    "    nr_of_neurons = 5\n",
    "    response = 0.0\n",
    "    for i in range(nr_of_neurons):\n",
    "        response += f3(f4,a,b,w,x)\n",
    "    return response\n",
    "\n",
    "def cost_function(f2,f3,f4,a,b,w,xvals,yvals):\n",
    "    cost = 0.0\n",
    "    for i in range(len(xvals)):\n",
    "        cost += np.power((f2(f3,f4,a,b,w,xvals[i])-yvals[i]),2)\n",
    "    return cost/len(xvals)\n",
    "\n",
    "def test_function(x):\n",
    "    return np.power(x,2)-2.0*x"
   ]
  },
  {
   "cell_type": "code",
   "execution_count": 8,
   "metadata": {},
   "outputs": [],
   "source": [
    "## Gradient in first derivative by means of finite differences ##\n",
    "## f1 = cost_function, f2 = response, f3 = neuron, f4 = func ##\n",
    "def gradient(f1,f2,f3,f4,a,b,w,xvals,yvals):\n",
    "    h = 0.1\n",
    "    grad_a = (f1(f2,f3,f4,a+h,b,w,xvals,yvals)-f1(f2,f3,f4,a,b,w,xvals,yvals))/h\n",
    "    grad_b = (f1(f2,f3,f4,a,b+h,w,xvals,yvals)-f1(f2,f3,f4,a,b,w,xvals,yvals))/h\n",
    "    grad_w = (f1(f2,f3,f4,a,b,w+h,xvals,yvals)-f1(f2,f3,f4,a,b,w,xvals,yvals))/h\n",
    "    grad = np.array([grad_a,grad_b,grad_w])\n",
    "    return grad\n",
    "\n",
    "## Defining a function for calculating the euclidean norm af a n-dimensional vector ##\n",
    "def norm(vector):\n",
    "    square_sum = 0.0\n",
    "    for i in range(len(vector)):\n",
    "        square_sum += np.power(vector[i],2)\n",
    "    return np.sqrt(square_sum)\n",
    "\n",
    "## Defining a function for calculating the inner product of a n-dimensional vector ##\n",
    "def inner_product(vector):\n",
    "    square_sum = 0.0\n",
    "    for i in range(len(vector)):\n",
    "        square_sum += np.power(vector[i],2)\n",
    "    return square_sum\n",
    "\n",
    "## Defining a function for doing gradient descent ##\n",
    "def gradient_descent(f1, f2, f3, f4, xvals, yvals, tol, init_guess):\n",
    "    tolerance = tol\n",
    "    a_init, b_init, w_init = init_guess[0],init_guess[1], init_guess[2]\n",
    "    x0 = np.array([a_init, b_init, w_init])\n",
    "    counter = 0\n",
    "    while norm(gradient(f1,f2,f3,f4,x0[0],x0[1],x0[2],xvals,yvals)) > tolerance:\n",
    "        step_dir = -1.0*gradient(f1,f2,f3,f4,x0[0],x0[1],x0[2],xvals,yvals)\n",
    "        \n",
    "        ## Finding stepsize by means of backtracking: stepsize -> stepsize/2 ##\n",
    "        h = 1.0\n",
    "        alpha = 0.0001\n",
    "        ## Armijo condition ##\n",
    "        while f1(f2,f3,f4,x0[0]+step_dir[0]*h,x0[1]+step_dir[1]*h,x0[2]+step_dir[2]*h,xvals,yvals) > f1(f2,f3,f4,x0[0],x0[1],x0[2],xvals,yvals)+alpha*inner_product(step_dir):\n",
    "            h*=0.5\n",
    "       \n",
    "        ## Checking the function value decreases ##\n",
    "        if f1(f2,f3,f4,x0[0]+step_dir[0]*h,x0[1]+step_dir[1]*h,x0[2]+step_dir[2]*h,xvals,yvals) > f1(f2,f3,f4,x0[0],x0[1],x0[2],xvals,yvals):\n",
    "            print(\"not decreasing function value - breakin loop\")\n",
    "            break\n",
    "            \n",
    "        ## Performing step ##\n",
    "        x0[0]+=h*step_dir[0]\n",
    "        x0[1]+=h*step_dir[1]\n",
    "        x0[2]+=h*step_dir[2]\n",
    "        \n",
    "        counter += 1\n",
    "    return x0, counter\n",
    "    "
   ]
  },
  {
   "cell_type": "code",
   "execution_count": 9,
   "metadata": {},
   "outputs": [
    {
     "name": "stdout",
     "output_type": "stream",
     "text": [
      "not decreasing function value - breakin loop\n",
      "1249.977159956337 159\n"
     ]
    },
    {
     "data": {
      "image/png": "[encoded data removed]",
      "text/plain": [
       "<Figure size 1440x720 with 1 Axes>"
      ]
     },
     "metadata": {
      "needs_background": "light"
     },
     "output_type": "display_data"
    }
   ],
   "source": [
    "xvals = [-10.0,-9.0,-8.0,-7.0,-6.0,-5.0,-4.0,-3.0,-2.0,-1.0,0.0,1.0,2.0,3.0,4.0,5.0,6.0,7.0,8.0,9.0,10.0]\n",
    "yvals = [test_function(xvals[i]) for i in range(len(xvals))]\n",
    "tol = 0.00001\n",
    "\n",
    "## try -12.0,13.0,-20.0\n",
    "init_guess = np.array([1.0,1.0,1.0])\n",
    "\n",
    "vals, nr_of_steps = gradient_descent(cost_function,network_response, hidden_neuron, activation_function, xvals, yvals, tol, init_guess)\n",
    "a,b,w = vals[0],vals[1],vals[2]\n",
    "print(cost_function(network_response,hidden_neuron,activation_function,a,b,w,xvals,yvals), nr_of_steps)\n",
    "xs = np.linspace(-10,10,10000)\n",
    "fig, ax = plt.subplots(1,1,figsize=(20,10))\n",
    "#ax.plot(xs,test_function(xs), label = \"f(x)\")\n",
    "ax.plot(xvals,yvals,'ro',label = \"tabulated values\")\n",
    "ax.plot(xs,network_response(hidden_neuron,activation_function,a,b,w,xs), label = \"ML\")\n",
    "ax.legend()\n",
    "ax.grid()\n",
    "plt.show()\n"
   ]
  },
  {
   "cell_type": "code",
   "execution_count": 60,
   "metadata": {},
   "outputs": [],
   "source": [
    "def test_function(x):\n",
    "    return (np.power(x,2)-2.0*x)\n",
    "\n",
    "def activation_function(x):\n",
    "    return np.exp(-x**2)\n",
    "\n",
    "def hidden_neuron(a,b,w,x):\n",
    "    return activation_function((x-a)/b)*w;\n",
    "\n",
    "def network_response(x,xval):\n",
    "    nr_of_neurons = 5\n",
    "    response = 0.0\n",
    "    for i in range(nr_of_neurons):\n",
    "        a,b,w = x[i*3],x[i*3+1],x[i*3+2]\n",
    "        response += hidden_neuron(a,b,w,xval)\n",
    "    return response\n",
    "\n",
    "def cost_function(x):\n",
    "    xvals = [-10.0,-9.0,-8.0,-7.0,-6.0,-5.0,-4.0,-3.0,-2.0,-1.0,0.0,1.0,2.0,3.0,4.0,5.0,6.0,7.0,8.0,9.0,10.0]\n",
    "    yvals = [test_function(xvals[i]) for i in range(len(xvals))]\n",
    "    cost = 0.0\n",
    "    for i in range(len(xvals)):\n",
    "        cost += np.power((network_response(x,xvals[i])-yvals[i]),2)\n",
    "    return cost\n",
    "\n",
    "\n",
    "## re-defining Gradient in first derivative by means of finite differences ##\n",
    "def gradient(func,x):\n",
    "    h = 0.001\n",
    "    ## creating unit vectors ##\n",
    "    unit_vecs = []\n",
    "    for i in range(len(x)):\n",
    "        temp = []\n",
    "        for j in range(len(x)):\n",
    "            temp.append(0.0)\n",
    "        temp[i] = 1.0\n",
    "        unit_vecs.append(np.array(temp))\n",
    "        \n",
    "    ## calculating gradient ##\n",
    "    gradient = np.zeros(len(x))\n",
    "    for i in range(len(x)):\n",
    "        gradient += ((func(x+h*unit_vecs[i])-func(x))/h)*unit_vecs[i] \n",
    "    return gradient\n",
    "\n",
    "\n",
    "## A function for creating an n-dimensional identity matrix ##\n",
    "def identity_matrix(dimensions):\n",
    "    arrays = []\n",
    "    for i in range(dimensions):\n",
    "        temp = []\n",
    "        for j in range(dimensions):\n",
    "            temp.append(0.0)\n",
    "        temp[i] = 1.0\n",
    "        arrays.append(temp)\n",
    "    return np.matrix(arrays)\n",
    "\n",
    "## Defining a function for performing SR1 uppdate in quasi newton ##\n",
    "def SR1_update(H_inverse,x,s,eps,grad_func,func):\n",
    "    inv_H = H_inverse\n",
    "    y = np.array(grad_func(func,x+s)-grad_func(func,x))\n",
    "    u = np.array((s-(inv_H@y)))[0]\n",
    "    if abs(np.inner(y,u)) > eps:\n",
    "        delta_H_inv = np.matrix(np.outer(u,u))/(np.inner(y,u))\n",
    "        inv_H += delta_H_inv\n",
    "    return inv_H\n",
    "\n",
    "\n",
    "## Defining a function for performing the quasi-newton algorythm ##\n",
    "def quasi_newton(func, tol, eps, init_guess):\n",
    "    \n",
    "    ## Initial definitions ##\n",
    "    step_tol = 10.0**(-10)\n",
    "    x0 = np.array([init_guess[i] for i in range(len(init_guess))])\n",
    "    counter = 0\n",
    "    steps = [x0]\n",
    "    inverse_hessian = identity_matrix(len(x0))\n",
    "    while norm(gradient(func,x0)) >= tol and counter < 1000:   \n",
    "        \n",
    "                                ###########################\n",
    "                                #### Finding stepsize #####\n",
    "                                ###########################\n",
    "        lambd = 1.0\n",
    "        lambd_min = 10.0**(-6)\n",
    "        alpha = 0.0001\n",
    "        grad = gradient(func,x0)\n",
    "        s = np.array(-lambd*(inverse_hessian@grad))[0]  \n",
    "        \n",
    "        ###### Armijo condition ######\n",
    "        while func(x0+s) >= func(x0)+alpha*lambd*(np.inner(x0,grad)):\n",
    "            if lambd <= lambd_min:\n",
    "                inverse_hessian = identity_matrix(len(x0))\n",
    "                break\n",
    "            lambd *= 0.5\n",
    "            s = np.array(-lambd*(inverse_hessian@grad))[0]\n",
    "\n",
    "        beta = 0.90\n",
    "        s = np.array(-lambd*(inverse_hessian@grad))[0]\n",
    "        grad_s = gradient(func,x0+s)\n",
    "        left = (1.0/lambd)*(np.inner(grad_s,s))\n",
    "        \n",
    "        ###### Curvature condition ######\n",
    "        while left < beta*(1.0/lambd)*(np.inner(s,grad)):\n",
    "            lambd*=2.0\n",
    "            s = np.array(-lambd*(inverse_hessian@grad))[0]\n",
    "            grad_s = gradient(func,x0+s)\n",
    "            left = (1.0/lambd)*(np.inner(grad_s,s))\n",
    "        \n",
    "        ## Calculating update for inverse hessian approximation ##\n",
    "        inverse_hessian = SR1_update(inverse_hessian,x0,s,eps,gradient,func)\n",
    "    \n",
    "        ## Checking stepsize and performing step ##\n",
    "        s = -lambd*np.array((inverse_hessian@gradient(func,x0)))[0]\n",
    "        if norm(s) < step_tol:\n",
    "            ## Step size to small - stop iteration ##\n",
    "            print(\"breaking due to small stepsize\")\n",
    "            break\n",
    "        x0 += s\n",
    "        steps.append(x0)\n",
    "        ## Updating counter ##\n",
    "        counter += 1\n",
    "    print(\"gradient norm =\",norm(gradient(func,x0)))\n",
    "    return steps, counter"
   ]
  },
  {
   "cell_type": "code",
   "execution_count": 63,
   "metadata": {},
   "outputs": [
    {
     "name": "stdout",
     "output_type": "stream",
     "text": [
      "gradient norm = 12.973343120287623\n"
     ]
    },
    {
     "data": {
      "image/png": "[encoded data removed]",
      "text/plain": [
       "<Figure size 1440x720 with 1 Axes>"
      ]
     },
     "metadata": {
      "needs_background": "light"
     },
     "output_type": "display_data"
    }
   ],
   "source": [
    "xvals = [-10.0,-9.0,-8.0,-7.0,-6.0,-5.0,-4.0,-3.0,-2.0,-1.0,0.0,1.0,2.0,3.0,4.0,5.0,6.0,7.0,8.0,9.0,10.0]\n",
    "yvals = [test_function(xvals[i]) for i in range(len(xvals))]\n",
    "\n",
    "tolerance = 1.0e-4\n",
    "epsilon = 10**(-6)\n",
    "\n",
    "init_guess = []\n",
    "for i in range(15):\n",
    "    init_guess.append(random.uniform(-10,10))\n",
    "\n",
    "steps, nr_steps = quasi_newton(cost_function,tolerance,epsilon,init_guess)\n",
    "\n",
    "#test = so.fmin(cost_function,init_guess,xtol=0.0001, ftol=0.0001)\n",
    "\n",
    "xs = np.linspace(-10,10,10000)\n",
    "fig, ax = plt.subplots(1,1,figsize=(20,10))\n",
    "ax.plot(xvals,yvals,'ro',label = \"tabulated values\")\n",
    "ax.plot(xs,network_response(steps[-1],xs), label = \"ML\")\n",
    "ax.legend()\n",
    "ax.grid()\n",
    "plt.show()"
   ]
  },
  {
   "cell_type": "code",
   "execution_count": 67,
   "metadata": {},
   "outputs": [
    {
     "data": {
      "text/plain": [
       "array([2.3])"
      ]
     },
     "execution_count": 67,
     "metadata": {},
     "output_type": "execute_result"
    }
   ],
   "source": [
    "np.array([2.3],dtype=float)"
   ]
  },
  {
   "cell_type": "code",
   "execution_count": 70,
   "metadata": {},
   "outputs": [
    {
     "ename": "SyntaxError",
     "evalue": "invalid syntax (<ipython-input-70-8a01c15c6b5f>, line 1)",
     "output_type": "error",
     "traceback": [
      "\u001b[1;36m  File \u001b[1;32m\"<ipython-input-70-8a01c15c6b5f>\"\u001b[1;36m, line \u001b[1;32m1\u001b[0m\n\u001b[1;33m    [2.3,datatype=float]\u001b[0m\n\u001b[1;37m                 ^\u001b[0m\n\u001b[1;31mSyntaxError\u001b[0m\u001b[1;31m:\u001b[0m invalid syntax\n"
     ]
    }
   ],
   "source": [
    "[2.3]"
   ]
  },
  {
   "cell_type": "code",
   "execution_count": null,
   "metadata": {},
   "outputs": [],
   "source": []
  }
 ],
 "metadata": {
  "kernelspec": {
   "display_name": "Python 3",
   "language": "python",
   "name": "python3"
  },
  "language_info": {
   "codemirror_mode": {
    "name": "ipython",
    "version": 3
   },
   "file_extension": ".py",
   "mimetype": "text/x-python",
   "name": "python",
   "nbconvert_exporter": "python",
   "pygments_lexer": "ipython3",
   "version": "3.8.5"
  }
 },
 "nbformat": 4,
 "nbformat_minor": 4
}
