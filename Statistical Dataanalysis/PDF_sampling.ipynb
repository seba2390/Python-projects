{
 "cells": [
  {
   "cell_type": "code",
   "execution_count": 41,
   "metadata": {},
   "outputs": [],
   "source": [
    "import numpy as np\n",
    "import matplotlib.pyplot as plt\n",
    "import scipy.constants as consts\n",
    "from scipy.stats import maxwell"
   ]
  },
  {
   "cell_type": "markdown",
   "metadata": {},
   "source": [
    "## Inverse CDF method"
   ]
  },
  {
   "cell_type": "markdown",
   "metadata": {},
   "source": [
    "#### Real Maxwell-boltzmann"
   ]
  },
  {
   "cell_type": "code",
   "execution_count": 232,
   "metadata": {},
   "outputs": [
    {
     "data": {
      "image/png": "[encoded data removed]",
      "text/plain": [
       "<Figure size 360x216 with 1 Axes>"
      ]
     },
     "metadata": {
      "needs_background": "light"
     },
     "output_type": "display_data"
    }
   ],
   "source": [
    "Mass = 86.909184   # In AMU\n",
    "Temp = 0.001       # In kelvin\n",
    "\n",
    "scale_factor =  np.sqrt(consts.k*Temp/(Mass*consts.u))  # sqrt(kT/m)\n",
    "\n",
    "fig, ax = plt.subplots(1,1,figsize=(5,3))\n",
    "\n",
    "xs1 = np.linspace(0,2,100)\n",
    "ys1 = maxwell.pdf(xs1,scale=scale_factor)\n",
    "\n",
    "xs2 = np.random.uniform(low=0,high=1,size=1000000)\n",
    "ys2 = maxwell.ppf(xs2,scale=scale_factor)  ## ppf is inverse cdf in scipy \n",
    "\n",
    "ax.plot(xs1,ys1,lw=2,color=\"red\",label=\"Real Maxwell-Boltzmann dist\")\n",
    "ax.hist(ys2,bins=2*int(1+np.ceil(np.log(len(ys2)))),color='grey',density=True,edgecolor=\"black\",label=\"Histogram of samples\")\n",
    "\n",
    "ax.legend()\n",
    "plt.show()"
   ]
  },
  {
   "cell_type": "markdown",
   "metadata": {},
   "source": [
    "## Acceptance-Rejection sampling\n",
    "\n",
    "real pdf: $f(x) = \\sqrt{\\frac{2}{\\pi}}\\frac{1}{a^3}\\,x^2\\textrm{exp}(\\frac{-x^2}{2a^2})$ <br>\n",
    "\"similar\" pdf: $g(x)=\\sqrt{\\frac{2}{\\pi}}\\frac{1}{a^3}\\,x\\,\\textrm{exp}(\\frac{-x^2}{2a^2})$\n",
    "\n",
    "in this case, the $cdf$ for $g(x)$ is: $\\int_{0}^x\\sqrt{\\frac{2}{\\pi}}\\frac{1}{a^3}\\,x\\,\\textrm{exp}(\\frac{-x^2}{2a^2})\\,dx=\\sqrt{\\frac{2}{\\pi}}\\frac{1}{a}\\big(1-\\textrm{exp}(\\frac{-x^2}{2a^2})\\big)$ <br>\n",
    "and corresponding inverse cdf found by solving for $x$:\n",
    "$cdf^{-1}(u) = a\\sqrt{\\frac{-2}{a\\sqrt{2\\pi}u-2}},\\quad\\textrm{for}\\,\\,u-\\sqrt{\\frac{2}{\\pi}}\\frac{1}{a}<0\\,\\,\\textrm{and}\\,\\, a>0$"
   ]
  },
  {
   "cell_type": "markdown",
   "metadata": {},
   "source": [
    "choosing $M<\\infty$, s.t. $f(x)\\leq M g(x), \\forall x$, which here reduces to chosing $M$, s.t. $x^2\\leq Mx$. Say that upper bound of $x$ is $x=c$, then $M=c$ satisfies this."
   ]
  },
  {
   "cell_type": "markdown",
   "metadata": {},
   "source": [
    "Algorithm could then be: <br>\n",
    "&ensp; for $x$ in... <br>\n",
    "&ensp; - Generate a sample $x$ from dist. with pdf = $g(x)$<br>\n",
    "&ensp; - Generate sample $u$ from [0,1)$*M$-uniform random dist<br>\n",
    "&emsp; if $u>\\frac{f(x)}{Mg(x)}$: reject sample $x$<br>\n",
    "&emsp; else: accept $x$ as sample from dist. with pdf = $f(x)$. <br> <br>\n",
    "\n",
    "here we chose $M=\\sqrt{\\frac{2}{\\pi}}\\frac{1}{a}$ to avoid invalid sqrt of inverse cdf evalution\n",
    "    "
   ]
  },
  {
   "cell_type": "code",
   "execution_count": 197,
   "metadata": {},
   "outputs": [],
   "source": [
    "a = scale_factor ## sqrt(kT/m)\n",
    "\n",
    "def f(x):\n",
    "    return 1./(a**3)*np.sqrt(2/np.pi)*x**2*np.exp(-x**2/(2*a**2))\n",
    "\n",
    "def g(x):\n",
    "    return 1./(a**3)*np.sqrt(2/np.pi)*x*np.exp(-x**2/(2*a**2)) \n",
    "\n",
    "def inv_cdf(u):\n",
    "    return a*np.sqrt(2*np.log(-2/(a*np.sqrt(2*np.pi)*u-2)))"
   ]
  },
  {
   "cell_type": "code",
   "execution_count": 223,
   "metadata": {},
   "outputs": [
    {
     "name": "stdout",
     "output_type": "stream",
     "text": [
      "sample size: 58025\n"
     ]
    }
   ],
   "source": [
    "M = 0.99999*np.sqrt(2)/(a*np.sqrt(np.pi))\n",
    "us = np.random.uniform(low=0,high=1,size=1000000)*M\n",
    "xs = inv_cdf(us)\n",
    "\n",
    "us = np.random.permutation(us) # Has to be shuffled for random picking in loop\n",
    "\n",
    "## Sampling\n",
    "samples = []\n",
    "for i in range(len(xs)):\n",
    "    if us[i] <= f(xs[i])/(M*g(xs[i])):\n",
    "        samples.append(xs[i])\n",
    "print(\"sample size:\",len(samples))"
   ]
  },
  {
   "cell_type": "code",
   "execution_count": 230,
   "metadata": {},
   "outputs": [
    {
     "data": {
      "image/png": "[encoded data removed]",
      "text/plain": [
       "<Figure size 360x216 with 1 Axes>"
      ]
     },
     "metadata": {
      "needs_background": "light"
     },
     "output_type": "display_data"
    }
   ],
   "source": [
    "fig, ax = plt.subplots(1,1,figsize=(5,3))\n",
    "\n",
    "new_xs = np.linspace(0,M,1000)\n",
    "ax.plot(new_xs,maxwell.pdf(new_xs,scale=a),color=\"red\",lw=2,label=\"Real Maxwell-Boltzmann dist\")\n",
    "ax.hist(samples, bins=2*int(1+np.ceil(np.log(len(samples)))), density=True,color=\"grey\",edgecolor=\"black\",label=\"Histogram of samples\")\n",
    "ax.legend()\n",
    "plt.show()"
   ]
  },
  {
   "cell_type": "markdown",
   "metadata": {},
   "source": [
    "### Simple monte carlo sampling"
   ]
  },
  {
   "cell_type": "markdown",
   "metadata": {},
   "source": [
    "Initialize $N$ sized list of $\\textrm{uniform}(y_{min},y_{max})$. <br> <br>\n",
    "for each $x$ in $[x_{min},x_{max}]$ <br>\n",
    "&emsp; for each sample in list($\\textrm{uniform}(y_{min},y_{max}))$: <br>\n",
    "&emsp; &emsp; if sample < y(x): <br>\n",
    "&emsp; &emsp;&emsp; append sample to samples."
   ]
  },
  {
   "cell_type": "code",
   "execution_count": 226,
   "metadata": {},
   "outputs": [
    {
     "name": "stdout",
     "output_type": "stream",
     "text": [
      "sample size: 257228\n"
     ]
    }
   ],
   "source": [
    "## Creating interval\n",
    "xs           = np.linspace(0,2,1000)\n",
    "ys           = maxwell.pdf(xs,scale=scale_factor)\n",
    "y_sample_range = np.random.uniform(low=np.min(ys),high=np.max(ys),size=len(xs))\n",
    "\n",
    "samples = []\n",
    "for x_idx, x in enumerate(xs):\n",
    "    for y_sample in y_sample_range:\n",
    "        if y_sample <= ys[x_idx]:\n",
    "            samples.append(x)\n",
    "print(\"sample size:\",len(samples))"
   ]
  },
  {
   "cell_type": "code",
   "execution_count": 229,
   "metadata": {},
   "outputs": [
    {
     "data": {
      "image/png": "[encoded data removed]",
      "text/plain": [
       "<Figure size 360x216 with 1 Axes>"
      ]
     },
     "metadata": {
      "needs_background": "light"
     },
     "output_type": "display_data"
    }
   ],
   "source": [
    "fig, ax = plt.subplots(1,1,figsize=(5,3))\n",
    "\n",
    "new_xs = np.linspace(0,M,1000)\n",
    "ax.plot(new_xs,maxwell.pdf(new_xs,scale=a),color=\"red\",lw=2,label=\"Real Maxwell-Boltzmann dist\")\n",
    "ax.hist(samples, bins=2*int(1+np.ceil(np.log(len(samples)))), density=True,color=\"grey\",edgecolor=\"black\",label=\"Histogram of samples\")\n",
    "ax.legend()\n",
    "plt.show()"
   ]
  },
  {
   "cell_type": "code",
   "execution_count": null,
   "metadata": {},
   "outputs": [],
   "source": []
  }
 ],
 "metadata": {
  "interpreter": {
   "hash": "de9184fb1100b1b99a61021f59422ac28d78a243336732ae833608768c206ac0"
  },
  "kernelspec": {
   "display_name": "Python 3.9.7 ('base')",
   "language": "python",
   "name": "python3"
  },
  "language_info": {
   "codemirror_mode": {
    "name": "ipython",
    "version": 3
   },
   "file_extension": ".py",
   "mimetype": "text/x-python",
   "name": "python",
   "nbconvert_exporter": "python",
   "pygments_lexer": "ipython3",
   "version": "3.9.7"
  },
  "orig_nbformat": 4
 },
 "nbformat": 4,
 "nbformat_minor": 2
}
