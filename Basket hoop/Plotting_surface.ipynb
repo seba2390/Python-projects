{
 "cells": [
  {
   "cell_type": "code",
   "execution_count": 1,
   "metadata": {},
   "outputs": [],
   "source": [
    "import numpy as np\n",
    "import matplotlib.pyplot as plt\n",
    "\n",
    "\n",
    "BACKBOARD_WIDTH, BACKBOARD_HEIGHT = 1.8, 1.22     ## in meters\n",
    "BASKET_DIAMETER, BASKET_HEIGHT    = 0.4572, 3.05  ## in meters\n",
    "COURT_WIDTH, COURT_LENGTH         = 15.0, 28.0    ## in meters\n",
    "BACKBOARD_BASKET_DISTANCE         = 0.151         ## in meters\n",
    "BASKET_RING_THICKNESS             = 0.02          ## in meters\n",
    "COURT_HEIGHT                      = 7.0           ## in meters\n",
    "BACKBOARD_ZMIN                    = BASKET_HEIGHT ## Remember to account for ball\n",
    "BACKBOARD_ZMAX                    = BASKET_HEIGHT+(1.219-0.305)\n",
    "BACKBOARD_Z                       = BACKBOARD_ZMAX - BACKBOARD_HEIGHT/2\n",
    "BACKBOARD_XMIN                    = COURT_WIDTH/2-BACKBOARD_WIDTH/2\n",
    "BACKBOARD_XMAX                    = COURT_WIDTH/2+BACKBOARD_WIDTH/2\n",
    "BACKBOARD_X                       = COURT_WIDTH/2\n",
    "BACKBOARD_Y                       = COURT_LENGTH/2\n",
    "\n",
    "def rotate_backboard_z(angle,x):\n",
    "    \"Rotating plane around z-axis\"\n",
    "    # Assuring that backboard keeps correct lengtj\n",
    "    x[:,0] = np.array([BACKBOARD_X,BACKBOARD_X])-np.cos(angle)*BACKBOARD_WIDTH/2\n",
    "    x[:,1] = np.array([BACKBOARD_X,BACKBOARD_X])+np.cos(angle)*BACKBOARD_WIDTH/2\n",
    "    # Rotating\n",
    "    y_rot = np.tan(angle)*x+BACKBOARD_Y\n",
    "    # Shifting in y direction\n",
    "    y_rot = y_rot - np.tan(angle)*BACKBOARD_X\n",
    "    return x,y_rot\n",
    "\n",
    "def rotate_backboard_x(angle,y):\n",
    "    \"Rotating plane around x-axis\"\n",
    "    # Assuring that backboard keeps correct lengtj\n",
    "    y[:,0] = np.array([BACKBOARD_Y,BACKBOARD_Y])-np.cos(angle)*BACKBOARD_HEIGHT/2\n",
    "    y[:,1] = np.array([BACKBOARD_Y,BACKBOARD_Y])+np.cos(angle)*BACKBOARD_HEIGHT/2\n",
    "    # Rotating\n",
    "    y_rot = np.tan(angle)*x+BACKBOARD_Y\n",
    "    # Shifting in y direction\n",
    "    y_rot = y_rot - np.tan(angle)*BACKBOARD_X\n",
    "    return x,y_rot   "
   ]
  },
  {
   "cell_type": "code",
   "execution_count": 4,
   "metadata": {},
   "outputs": [
    {
     "name": "stdout",
     "output_type": "stream",
     "text": [
      "Plottet bb width = 1.8\n"
     ]
    },
    {
     "data": {
      "image/png": "[encoded data removed]",
      "text/plain": [
       "<Figure size 864x432 with 2 Axes>"
      ]
     },
     "metadata": {
      "needs_background": "light"
     },
     "output_type": "display_data"
    }
   ],
   "source": [
    "angle = 0\n",
    "assert angle < 90, \"Boundary error - keep rotation in [0:90[\"\n",
    "\n",
    "xmin, xmax = BACKBOARD_XMIN, BACKBOARD_XMAX\n",
    "zmin, zmax = BACKBOARD_ZMIN, BACKBOARD_ZMAX\n",
    "xx,zz      = np.meshgrid(np.linspace(xmin,xmax,2), np.linspace(zmin,zmax,2))\n",
    "xx,yy      = rotate_backboard(np.deg2rad(angle),xx)\n",
    "\n",
    "fig = plt.figure(figsize=(12,6))\n",
    "ax = fig.add_subplot(121, projection='3d')\n",
    "ax2 = fig.add_subplot(122, projection='3d')\n",
    "\n",
    "ax.view_init(elev=90, azim=0)\n",
    "ax2.view_init(elev=0, azim=0)\n",
    "x_ratio,y_ratio,z_ratio = COURT_WIDTH/(COURT_LENGTH*0.5) ,1, COURT_HEIGHT/(COURT_LENGTH*0.5)\n",
    "ax.set_box_aspect((x_ratio,y_ratio,z_ratio)),ax2.set_box_aspect((x_ratio,y_ratio,z_ratio))\n",
    "ax.set_xlim(0,COURT_WIDTH), ax.set_ylim(0,COURT_LENGTH), ax.set_zlim(0,COURT_HEIGHT)\n",
    "ax2.set_xlim(0,COURT_WIDTH), ax2.set_ylim(0,COURT_LENGTH), ax2.set_zlim(0,COURT_HEIGHT)\n",
    "ax.set_xlabel(\"X\"),ax.set_ylabel(\"Y\"),ax2.set_xlabel(\"X\"),ax2.set_ylabel(\"Y\")\n",
    "ax.plot_surface(xx, yy, zz, color=\"blue\", linewidth=2, edgecolor=\"grey\")\n",
    "ax2.plot_surface(xx, yy, zz, color=\"blue\", linewidth=2, edgecolor=\"grey\")\n",
    "\n",
    "plottet_width = np.round(np.sqrt((xx[0][0]-xx[0][1])**2+(yy[0][0]-yy[0][1])**2),4)\n",
    "print(f'Plottet bb width = {plottet_width}')"
   ]
  },
  {
   "cell_type": "code",
   "execution_count": 5,
   "metadata": {},
   "outputs": [],
   "source": [
    "xx = np.meshgrid(np.linspace(xmin,xmax,2))"
   ]
  },
  {
   "cell_type": "code",
   "execution_count": 6,
   "metadata": {},
   "outputs": [
    {
     "data": {
      "text/plain": [
       "[array([6.6, 8.4])]"
      ]
     },
     "execution_count": 6,
     "metadata": {},
     "output_type": "execute_result"
    }
   ],
   "source": [
    "ax+by+cz+d = 0\n",
    "z"
   ]
  },
  {
   "cell_type": "code",
   "execution_count": null,
   "metadata": {},
   "outputs": [],
   "source": []
  }
 ],
 "metadata": {
  "interpreter": {
   "hash": "de9184fb1100b1b99a61021f59422ac28d78a243336732ae833608768c206ac0"
  },
  "kernelspec": {
   "display_name": "Python 3.9.7 64-bit ('base': conda)",
   "language": "python",
   "name": "python3"
  },
  "language_info": {
   "codemirror_mode": {
    "name": "ipython",
    "version": 3
   },
   "file_extension": ".py",
   "mimetype": "text/x-python",
   "name": "python",
   "nbconvert_exporter": "python",
   "pygments_lexer": "ipython3",
   "version": "3.9.7"
  },
  "orig_nbformat": 4
 },
 "nbformat": 4,
 "nbformat_minor": 2
}
