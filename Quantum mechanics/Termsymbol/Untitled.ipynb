{
 "cells": [
  {
   "cell_type": "code",
   "execution_count": 1,
   "metadata": {},
   "outputs": [],
   "source": [
    "from fractions import Fraction\n",
    "import numpy as np"
   ]
  },
  {
   "cell_type": "code",
   "execution_count": 3,
   "metadata": {},
   "outputs": [],
   "source": [
    "def print_nmls_states(principal_quantumn_number):\n",
    "    \n",
    "    ### Principle quantumn number ###\n",
    "    n = [i+1 for i in range(principal_quantumn_number)]\n",
    "\n",
    "    ### Orbtial angular momentum ## \n",
    "    l, m_l = [], []\n",
    "    \n",
    "    ## Calculating l - vals ##\n",
    "    for i in range(len(n)):\n",
    "        l_val = 0\n",
    "        l.append([])\n",
    "        for j in range(n[i]): \n",
    "            l[i].append(l_val)\n",
    "            l_val += 1\n",
    "            \n",
    "    ## Calculating m_l - vals\n",
    "    for i in range(len(l)):\n",
    "        m_l.append([])\n",
    "        for j in range(len(l[i])):\n",
    "            m_l[i].append([])\n",
    "            ml_val = -l[i][j]\n",
    "            if ml_val == 0:\n",
    "                m_l[i][j].append(ml_val)\n",
    "            else:\n",
    "                for k in range(2*l[i][j]+1):\n",
    "                    if ml_val <= l[i][j]:\n",
    "                        m_l[i][j].append(ml_val)\n",
    "                        ml_val += 1\n",
    "                         \n",
    "    ## Seperating states ##\n",
    "    states = []\n",
    "    n_val = n[0]\n",
    "    for i in range(len(m_l)):\n",
    "        nth_state = []\n",
    "        for j in range(len(m_l[i])):\n",
    "            l_val = l[i][j]\n",
    "            for k in range(len(m_l[i][j])):\n",
    "                ml_val = m_l[i][j][k]\n",
    "                nth_state.append(\"(\"+str(n_val)+\",\"+str(l_val)+\",\"+str(ml_val)+\")\") \n",
    "        states.append(nth_state)\n",
    "        n_val+=1\n",
    "     \n",
    "    ## Adding spin states ## (assuming fermions s.t. m_s = 1/2 or -1/2)\n",
    "    updated_states = []\n",
    "    spin_vals = ['\\u2191','\\u2193'] # unicode characters for up and down arrow \"\"\n",
    "    for i in range(len(states)):\n",
    "        nth_state = []\n",
    "        for j in range(len(states[i])):\n",
    "            for k in range(len(spin_vals)):\n",
    "                spin_part = \"|\"+spin_vals[k]+\"\\u3009\"\n",
    "                full_state = states[i][j]+spin_part\n",
    "                nth_state.append(full_state)\n",
    "        updated_states.append(nth_state)\n",
    "        \n",
    "    ## printing states ##\n",
    "    print(\"\\n                  ############################## Printing format is (n,l,m\\u2097)|m\\u209b\\u3009 ##############################\\n\")\n",
    "    for i in range(len(states)):\n",
    "        print(f'n={i+1}:',updated_states[i],\"\\n\")\n",
    "    return updated_states\n",
    "\n",
    "def print_term(S,L,J):\n",
    "    # Create fraction string from float #\n",
    "    J = str(Fraction(J).numerator)+\"/\"+str(Fraction(J).denominator)\n",
    "    L_letters = ['S','P','D','F','G','H','I','K','L','M','N','O','Q','R','T','U','V']\n",
    "    subscript,superscript = str.maketrans(\"0123456789/\", \"₀₁₂₃₄₅₆₇₈₉⸝\"), str.maketrans(\"0123456789\", \"⁰¹²³⁴⁵⁶⁷⁸⁹\")\n",
    "    multiplicity = str(2*S+1).translate(superscript)\n",
    "    L, J = L_letters[L], str(J).translate(subscript)\n",
    "    term = multiplicity+L+J\n",
    "    print(\"Term symbol is:\", term)"
   ]
  },
  {
   "cell_type": "code",
   "execution_count": 4,
   "metadata": {},
   "outputs": [
    {
     "name": "stdout",
     "output_type": "stream",
     "text": [
      "\n",
      "                  ############################## Printing format is (n,l,mₗ)|mₛ〉 ##############################\n",
      "\n",
      "n=1: ['(1,0,0)|↑〉', '(1,0,0)|↓〉'] \n",
      "\n",
      "n=2: ['(2,0,0)|↑〉', '(2,0,0)|↓〉', '(2,1,-1)|↑〉', '(2,1,-1)|↓〉', '(2,1,0)|↑〉', '(2,1,0)|↓〉', '(2,1,1)|↑〉', '(2,1,1)|↓〉'] \n",
      "\n",
      "n=3: ['(3,0,0)|↑〉', '(3,0,0)|↓〉', '(3,1,-1)|↑〉', '(3,1,-1)|↓〉', '(3,1,0)|↑〉', '(3,1,0)|↓〉', '(3,1,1)|↑〉', '(3,1,1)|↓〉', '(3,2,-2)|↑〉', '(3,2,-2)|↓〉', '(3,2,-1)|↑〉', '(3,2,-1)|↓〉', '(3,2,0)|↑〉', '(3,2,0)|↓〉', '(3,2,1)|↑〉', '(3,2,1)|↓〉', '(3,2,2)|↑〉', '(3,2,2)|↓〉'] \n",
      "\n",
      "n=4: ['(4,0,0)|↑〉', '(4,0,0)|↓〉', '(4,1,-1)|↑〉', '(4,1,-1)|↓〉', '(4,1,0)|↑〉', '(4,1,0)|↓〉', '(4,1,1)|↑〉', '(4,1,1)|↓〉', '(4,2,-2)|↑〉', '(4,2,-2)|↓〉', '(4,2,-1)|↑〉', '(4,2,-1)|↓〉', '(4,2,0)|↑〉', '(4,2,0)|↓〉', '(4,2,1)|↑〉', '(4,2,1)|↓〉', '(4,2,2)|↑〉', '(4,2,2)|↓〉', '(4,3,-3)|↑〉', '(4,3,-3)|↓〉', '(4,3,-2)|↑〉', '(4,3,-2)|↓〉', '(4,3,-1)|↑〉', '(4,3,-1)|↓〉', '(4,3,0)|↑〉', '(4,3,0)|↓〉', '(4,3,1)|↑〉', '(4,3,1)|↓〉', '(4,3,2)|↑〉', '(4,3,2)|↓〉', '(4,3,3)|↑〉', '(4,3,3)|↓〉'] \n",
      "\n",
      "n=5: ['(5,0,0)|↑〉', '(5,0,0)|↓〉', '(5,1,-1)|↑〉', '(5,1,-1)|↓〉', '(5,1,0)|↑〉', '(5,1,0)|↓〉', '(5,1,1)|↑〉', '(5,1,1)|↓〉', '(5,2,-2)|↑〉', '(5,2,-2)|↓〉', '(5,2,-1)|↑〉', '(5,2,-1)|↓〉', '(5,2,0)|↑〉', '(5,2,0)|↓〉', '(5,2,1)|↑〉', '(5,2,1)|↓〉', '(5,2,2)|↑〉', '(5,2,2)|↓〉', '(5,3,-3)|↑〉', '(5,3,-3)|↓〉', '(5,3,-2)|↑〉', '(5,3,-2)|↓〉', '(5,3,-1)|↑〉', '(5,3,-1)|↓〉', '(5,3,0)|↑〉', '(5,3,0)|↓〉', '(5,3,1)|↑〉', '(5,3,1)|↓〉', '(5,3,2)|↑〉', '(5,3,2)|↓〉', '(5,3,3)|↑〉', '(5,3,3)|↓〉', '(5,4,-4)|↑〉', '(5,4,-4)|↓〉', '(5,4,-3)|↑〉', '(5,4,-3)|↓〉', '(5,4,-2)|↑〉', '(5,4,-2)|↓〉', '(5,4,-1)|↑〉', '(5,4,-1)|↓〉', '(5,4,0)|↑〉', '(5,4,0)|↓〉', '(5,4,1)|↑〉', '(5,4,1)|↓〉', '(5,4,2)|↑〉', '(5,4,2)|↓〉', '(5,4,3)|↑〉', '(5,4,3)|↓〉', '(5,4,4)|↑〉', '(5,4,4)|↓〉'] \n",
      "\n"
     ]
    }
   ],
   "source": [
    "# States data is formated s.t.: n = states[x][y][1], l = states[x][y][3], ml = states[x][y][5], ms = states[x][y][7] #\n",
    "states = print_nmls_states(5)"
   ]
  },
  {
   "cell_type": "code",
   "execution_count": 9,
   "metadata": {
    "scrolled": true
   },
   "outputs": [
    {
     "name": "stdout",
     "output_type": "stream",
     "text": [
      "Possible configurations in (3D) orbital is: ['(3,2,-2)|↑〉', '(3,2,-2)|↓〉', '(3,2,-1)|↑〉', '(3,2,-1)|↓〉', '(3,2,0)|↑〉', '(3,2,0)|↓〉', '(3,2,1)|↑〉', '(3,2,1)|↓〉', '(3,2,2)|↑〉', '(3,2,2)|↓〉']\n",
      "The (3D) orbital can therefore hold 10 electrons. \n"
     ]
    }
   ],
   "source": [
    "## Finding number of possible configurations in given orbital ##\n",
    "def possible_configs(n,l):\n",
    "    configurations = []\n",
    "    for i in range(len(states[n-1])):\n",
    "        if int(states[n-1][i][3]) == l:\n",
    "            configurations.append(states[n-1][i])\n",
    "    L_letters = ['S','P','D','F','G','H','I','K','L','M','N','O','Q','R','T','U','V']\n",
    "    print(f'Possible configurations in ({str(n)+L_letters[l]}) orbital is: {configurations}')\n",
    "    print(f'The ({str(n)+L_letters[l]}) orbital can therefore hold {len(configurations)} electrons. ')\n",
    "    return configurations\n",
    "\n",
    "n,l = 3,2\n",
    "configs = possible_configs(n,l)"
   ]
  },
  {
   "cell_type": "code",
   "execution_count": null,
   "metadata": {},
   "outputs": [],
   "source": []
  },
  {
   "cell_type": "code",
   "execution_count": null,
   "metadata": {},
   "outputs": [],
   "source": []
  }
 ],
 "metadata": {
  "kernelspec": {
   "display_name": "Python 3",
   "language": "python",
   "name": "python3"
  },
  "language_info": {
   "codemirror_mode": {
    "name": "ipython",
    "version": 3
   },
   "file_extension": ".py",
   "mimetype": "text/x-python",
   "name": "python",
   "nbconvert_exporter": "python",
   "pygments_lexer": "ipython3",
   "version": "3.8.5"
  }
 },
 "nbformat": 4,
 "nbformat_minor": 4
}
