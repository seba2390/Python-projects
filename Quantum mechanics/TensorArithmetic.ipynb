{
 "cells": [
  {
   "cell_type": "code",
   "execution_count": 11,
   "metadata": {
    "pycharm": {
     "name": "#%%\n"
    }
   },
   "outputs": [],
   "source": [
    "import numpy as np"
   ]
  },
  {
   "cell_type": "code",
   "execution_count": 12,
   "outputs": [],
   "source": [
    "def tensor_state(str):\n",
    "    \"\"\" Creates a numpy vector representation of a tensor\n",
    "    product state consisting of |0> 's and |1> 's\n",
    "\n",
    "    Args:\n",
    "        string of zeros and ones, e.g. '10'\n",
    "\n",
    "    Returns:\n",
    "        np.array([0,1,0,0,...])\n",
    "    \"\"\"\n",
    "    zero, one = np.array([1,0]), np.array([0,1])\n",
    "    basis_objects = [zero,one]\n",
    "    objects = [basis_objects[int(str[-1])]]\n",
    "    for idx in range(0 , len(str) - 1):\n",
    "        current_object = np.zeros(2**(idx+2))\n",
    "        counter = 0\n",
    "        for i in range(2):\n",
    "            for j in range(len(objects[-1])):\n",
    "                current_object[counter] = objects[-1][j] * basis_objects[int(str[idx])][i]\n",
    "                counter += 1\n",
    "        objects.append(current_object)\n",
    "    return objects[-1]\n"
   ],
   "metadata": {
    "collapsed": false,
    "pycharm": {
     "name": "#%%\n"
    }
   }
  },
  {
   "cell_type": "code",
   "execution_count": 13,
   "metadata": {
    "pycharm": {
     "name": "#%%\n"
    }
   },
   "outputs": [],
   "source": [
    "class StateVector:\n",
    "    def __init__(self,number_list):\n",
    "        self.vector = self._set_vector(number_list)\n",
    "\n",
    "    @staticmethod\n",
    "    def _set_vector(digit_list):\n",
    "        return np.array(digit_list).reshape(len(digit_list),1)\n",
    "\n",
    "    @staticmethod\n",
    "    def transpose(self):\n",
    "        self.vector = np.transpose(self.vector)\n",
    "\n",
    "    def tensor_with(self,vec2):\n",
    "        assert type(vec2) is StateVector, \"Give vector as instance of StateVector class\"\n",
    "        if self.vector.shape == vec2.vector.shape:\n",
    "            result = np.zeros((self.vector.shape[0] * vec2.vector.shape[0],1))\n",
    "            if self.vector.shape[0] > self.vector.shape[1]:\n",
    "                idx = 0\n",
    "                for i in range(self.vector.shape[0]):\n",
    "                    for j in range(vec2.vector.shape[0]):\n",
    "                        result[idx] = self.vector[i] * vec2.vector[j]\n",
    "                        idx += 1\n",
    "            return result\n",
    "        if self.vector.shape[0] > vec2.vector.shape[0]:\n",
    "            result = np.zeros((self.vector.shape[0] , vec2.vector.shape[1]))\n",
    "            for i in range(self.vector.shape[0]):\n",
    "                for j in range(vec2.vector.shape[1]):\n",
    "                    result[i][j] = self.vector[i] * vec2.vector[0][j]\n",
    "            return result\n",
    "        if vec2.vector.shape[0] > self.vector.shape[0]:\n",
    "            result = np.zeros((vec2.vector.shape[0] , self.vector.shape[1]))\n",
    "            for i in range(vec2.vector.shape[0]):\n",
    "                for j in range(self.vector.shape[1]):\n",
    "                    result[i][j] = vec2.vector[i] * self.vector[0][j]\n",
    "            return result\n",
    "\n",
    "class OperatorMatrix:\n",
    "\n",
    "    def __init__(self,string):\n",
    "        self.operator_string = string\n",
    "        self.operator_matrix = self._multiple_matrix_tensor()\n",
    "\n",
    "    def _fill_area(self, start_row, start_col, target, recipe, multiplier):\n",
    "        \"\"\" Hepler function for filling out subarea of target matrix\n",
    "            with content of recipe * multiplier\n",
    "        Args:\n",
    "            start_row : Integer = The beginning row index of area\n",
    "            start_col : Integer = The beginning col index of area\n",
    "            target    : 2D numpy array to be filled in subarea\n",
    "            recipe    : 2D numpy array that goes into subarea of target\n",
    "            multiplier: Float (possibly complex) multiplied onto all recipe vals\n",
    "        \"\"\"\n",
    "        row_counter = 0\n",
    "        for row in range(start_row,start_row + 2):\n",
    "            col_counter = 0\n",
    "            for col in range(start_col, start_col + 2):\n",
    "                target[row][col] = recipe[row_counter][col_counter] * multiplier\n",
    "                col_counter += 1\n",
    "            row_counter+=1\n",
    "\n",
    "    def _multiple_matrix_tensor(self):\n",
    "\n",
    "        complex_vals = False\n",
    "        if \"Y\" in self.operator_string: complex_vals = True\n",
    "        if \"H\" in self.operator_string: print(r\"NOTICE: 1/√(2) factor is omitted from Hadamard\")\n",
    "\n",
    "        sigma_x, sigma_y, sigma_z = np.array([[0,1],[1,0]]),np.array([[0,-1j],[1j,0]]),np.array([[1,0],[0,-1]])\n",
    "        identity = np.identity(2)\n",
    "        hadamard = np.array([[1,1],[1,-1]])\n",
    "        basis_map = {\"X\":sigma_x,\"Y\":sigma_y,\"Z\":sigma_z,\"I\":identity,\"H\":hadamard}\n",
    "\n",
    "        objects = [basis_map[self.operator_string[0]]]\n",
    "        for idx in range(0 , len(self.operator_string) - 1):\n",
    "            if complex_vals:\n",
    "                current_object = np.zeros((2 ** (idx+2) , 2 ** (idx+2)),dtype=complex)\n",
    "            else:\n",
    "                current_object = np.zeros((2 ** (idx+2) , 2 ** (idx+2)))\n",
    "            row_counter = 0\n",
    "            for i in range(int(current_object.shape[0] / 2)):\n",
    "                col_counter = 0\n",
    "                for j in range(int(current_object.shape[0] / 2)):\n",
    "                    if objects[-1][i][j] == 1:\n",
    "                        self._fill_area(row_counter,col_counter,current_object,basis_map[self.operator_string[idx+1]],1)\n",
    "                    elif objects[-1][i][j] == -1:\n",
    "                        self._fill_area(row_counter,col_counter,current_object,basis_map[self.operator_string[idx+1]],-1)\n",
    "                    elif objects[-1][i][j] == 1j:\n",
    "                        self._fill_area(row_counter,col_counter,current_object,basis_map[self.operator_string[idx+1]],1j)\n",
    "                    elif objects[-1][i][j] == -1j:\n",
    "                        self._fill_area(row_counter,col_counter,current_object,basis_map[self.operator_string[idx+1]],-1j)\n",
    "                    col_counter += 2\n",
    "                row_counter += 2\n",
    "            objects.append(current_object)\n",
    "        return objects[-1]"
   ]
  },
  {
   "cell_type": "code",
   "execution_count": 14,
   "outputs": [
    {
     "name": "stdout",
     "output_type": "stream",
     "text": [
      "[[1]\n",
      " [2]\n",
      " [3]]\n"
     ]
    }
   ],
   "source": [
    "initial_state = StateVector([1,2,3])\n",
    "print(initial_state.vector)"
   ],
   "metadata": {
    "collapsed": false,
    "pycharm": {
     "name": "#%%\n"
    }
   }
  },
  {
   "cell_type": "code",
   "execution_count": 15,
   "outputs": [
    {
     "name": "stdout",
     "output_type": "stream",
     "text": [
      "[[1.]\n",
      " [2.]\n",
      " [2.]\n",
      " [4.]]\n"
     ]
    }
   ],
   "source": [
    "stateA = StateVector([1,2])\n",
    "stateB = StateVector([1,2])\n",
    "print(stateA.tensor_with(stateB))"
   ],
   "metadata": {
    "collapsed": false,
    "pycharm": {
     "name": "#%%\n"
    }
   }
  },
  {
   "cell_type": "code",
   "execution_count": 18,
   "outputs": [
    {
     "name": "stdout",
     "output_type": "stream",
     "text": [
      "NOTICE: 1/√(2) factor is omitted from Hadamard\n",
      "NOTICE: 1/√(2) factor is omitted from Hadamard\n",
      "NOTICE: 1/√(2) factor is omitted from Hadamard\n",
      "[[ 1.  1.  0.  0.]\n",
      " [ 1. -1.  0.  0.]\n",
      " [ 0.  0.  1.  1.]\n",
      " [ 0.  0.  1. -1.]]\n",
      "[[ 1.  0.  1.  0.]\n",
      " [ 0.  1.  0.  1.]\n",
      " [ 1.  0. -1. -0.]\n",
      " [ 0.  1. -0. -1.]]\n",
      "[[ 1.  1.  1.  1.]\n",
      " [ 1. -1.  1. -1.]\n",
      " [ 1.  1. -1. -1.]\n",
      " [ 1. -1. -1.  1.]]\n"
     ]
    },
    {
     "data": {
      "text/plain": "(None, None)"
     },
     "execution_count": 18,
     "metadata": {},
     "output_type": "execute_result"
    }
   ],
   "source": [
    "IH = OperatorMatrix(\"IH\"); HI = OperatorMatrix(\"HI\"); HH = OperatorMatrix(\"HH\")\n",
    "print(IH.operator_matrix); print(HI.operator_matrix), print(HH.operator_matrix)"
   ],
   "metadata": {
    "collapsed": false,
    "pycharm": {
     "name": "#%%\n"
    }
   }
  },
  {
   "cell_type": "code",
   "execution_count": 17,
   "outputs": [],
   "source": [
    "zero_zero = StateVector(tensor_state(\"00\"))\n",
    "zero_one  = StateVector(tensor_state(\"01\"))\n",
    "one_zero  = StateVector(tensor_state(\"10\"))\n",
    "one_one   = StateVector(tensor_state(\"11\"))"
   ],
   "metadata": {
    "collapsed": false,
    "pycharm": {
     "name": "#%%\n"
    }
   }
  },
  {
   "cell_type": "code",
   "execution_count": 23,
   "outputs": [
    {
     "name": "stdout",
     "output_type": "stream",
     "text": [
      "[[ 1.]\n",
      " [-1.]\n",
      " [ 1.]\n",
      " [-1.]]\n"
     ]
    }
   ],
   "source": [
    "print(HH.operator_matrix @ zero_one.vector)"
   ],
   "metadata": {
    "collapsed": false,
    "pycharm": {
     "name": "#%%\n"
    }
   }
  },
  {
   "cell_type": "code",
   "execution_count": 21,
   "outputs": [
    {
     "name": "stdout",
     "output_type": "stream",
     "text": [
      "[[ 1.]\n",
      " [-1.]\n",
      " [ 1.]\n",
      " [-1.]]\n"
     ]
    }
   ],
   "source": [
    "print(zero_zero.vector-zero_one.vector+one_zero.vector-one_one.vector)"
   ],
   "metadata": {
    "collapsed": false,
    "pycharm": {
     "name": "#%%\n"
    }
   }
  },
  {
   "cell_type": "code",
   "execution_count": 24,
   "outputs": [
    {
     "name": "stdout",
     "output_type": "stream",
     "text": [
      "[[1]\n",
      " [0]]\n",
      "[[0]\n",
      " [1]]\n"
     ]
    }
   ],
   "source": [
    "zero = StateVector(tensor_state(\"0\")); one  = StateVector(tensor_state(\"1\"))\n",
    "print(zero.vector); print(one.vector)"
   ],
   "metadata": {
    "collapsed": false,
    "pycharm": {
     "name": "#%%\n"
    }
   }
  },
  {
   "cell_type": "code",
   "execution_count": 25,
   "outputs": [
    {
     "name": "stdout",
     "output_type": "stream",
     "text": [
      "[[1]\n",
      " [1]]\n"
     ]
    }
   ],
   "source": [
    "print(zero.vector + one.vector)"
   ],
   "metadata": {
    "collapsed": false,
    "pycharm": {
     "name": "#%%\n"
    }
   }
  },
  {
   "cell_type": "code",
   "execution_count": 26,
   "outputs": [
    {
     "name": "stdout",
     "output_type": "stream",
     "text": [
      "[[ 1]\n",
      " [-1]]\n"
     ]
    }
   ],
   "source": [
    "print(zero.vector - one.vector)"
   ],
   "metadata": {
    "collapsed": false,
    "pycharm": {
     "name": "#%%\n"
    }
   }
  },
  {
   "cell_type": "code",
   "execution_count": null,
   "outputs": [],
   "source": [],
   "metadata": {
    "collapsed": false,
    "pycharm": {
     "name": "#%%\n"
    }
   }
  }
 ],
 "metadata": {
  "interpreter": {
   "hash": "de9184fb1100b1b99a61021f59422ac28d78a243336732ae833608768c206ac0"
  },
  "kernelspec": {
   "display_name": "Python 3.9.7 ('base')",
   "language": "python",
   "name": "python3"
  },
  "language_info": {
   "codemirror_mode": {
    "name": "ipython",
    "version": 3
   },
   "file_extension": ".py",
   "mimetype": "text/x-python",
   "name": "python",
   "nbconvert_exporter": "python",
   "pygments_lexer": "ipython3",
   "version": "3.9.7"
  },
  "orig_nbformat": 4
 },
 "nbformat": 4,
 "nbformat_minor": 2
}