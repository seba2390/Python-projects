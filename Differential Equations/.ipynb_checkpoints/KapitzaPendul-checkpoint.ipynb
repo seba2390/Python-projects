{
 "cells": [
  {
   "cell_type": "code",
   "execution_count": null,
   "metadata": {},
   "outputs": [],
   "source": [
    "import numpy as np\n",
    "import matplotlib.pyplot as plt\n",
    "from scipy.integrate import solve_ivp\n",
    "from scipy.linalg import norm\n",
    "import matplotlib as matplotlib\n",
    "import matplotlib.pyplot as plt\n",
    "from matplotlib import animation, rc\n",
    "rc('animation', html='jshtml')\n",
    "## Sætter grænseværdien for animationsstørrelsen op##\n",
    "matplotlib.rcParams['animation.embed_limit'] = 2**128"
   ]
  },
  {
   "cell_type": "markdown",
   "metadata": {},
   "source": [
    "# Vertikal drevet pendul - Kapitza pendulet"
   ]
  },
  {
   "cell_type": "markdown",
   "metadata": {},
   "source": [
    "Indrettet mod positiv x mod højre og positiv y nedad, således at:\n",
    "\\begin{align}\n",
    "x&=lsin(\\phi)\\\\\n",
    "y&=-lcos(\\phi)-f(t)\n",
    "\\end{align}\n",
    "\n",
    "hvor $f(t)=Acos(\\omega t)$ er den vertikale forskydning som konsekvens af drivkraften, bliver bevægelseslign. uden småvinkelapp. jf. lagrangeformalismen: \n",
    "\n",
    "\\begin{align}\n",
    "ml^2\\ddot{\\phi}-mlf''(t)sin(\\phi)-mlf'(t)cos(\\phi)\\dot{\\phi}&=-ml\\dot{\\phi}f'(t)cos(\\phi)-mglsin(\\phi)\\\\\n",
    "ml^2\\ddot{\\phi}-mlf''(t)sin(\\phi)&=-mglsin(\\phi),\\quad f''(t)=-A\\omega^2cos(\\omega t)\n",
    "\\end{align}\n",
    "\n",
    "omskriver til kobling:\n",
    "\\begin{align}\n",
    "\\frac{d\\dot{\\phi}}{dt}&=-\\frac{gsin(\\phi)}{l}-\\frac{A\\omega^2cos(\\omega t)sin(\\phi)}{l}\\\\\n",
    "\\frac{d\\phi}{dt}&=\\dot{\\phi}\n",
    "\\end{align}\n"
   ]
  },
  {
   "cell_type": "code",
   "execution_count": null,
   "metadata": {},
   "outputs": [],
   "source": [
    "l = 3\n",
    "g = 9.82\n",
    "omega = 10\n",
    "A = 0.5\n",
    "\n",
    "tinit = 0\n",
    "tfinal = 10\n",
    "trange = [tinit,tfinal]\n",
    "\n",
    "##startbetingelser\n",
    "phi_0 = np.pi/3\n",
    "phi_prik_0 = 0\n",
    "\n",
    "yinit = [phi_0,phi_prik_0]\n",
    "ts = np.linspace(tinit, tfinal, 1000)\n",
    "\n",
    "def dydt(t,y):\n",
    "    phi = y[0]\n",
    "    phi_prik = y[1]\n",
    "    d_phi_prik_dt = (-g*np.sin(phi))/l-(A*omega**2*np.cos(omega*t)*np.sin(phi))/l\n",
    "    d_phi_dt = phi_prik\n",
    "    return [d_phi_dt,d_phi_prik_dt]\n",
    "\n",
    "mysol = solve_ivp(dydt, trange, yinit, t_eval = ts,rtol=3e-14)\n",
    "ts = mysol.t\n",
    "phi = mysol.y[0]\n",
    "phi_prik = mysol.y[1]\n"
   ]
  },
  {
   "cell_type": "code",
   "execution_count": null,
   "metadata": {},
   "outputs": [],
   "source": [
    "\n",
    "plt.rc('font', size=15)\n",
    "fig,ax = plt.subplots(1,2,figsize=(20,6))\n",
    "ax[1].plot(phi,phi_prik)\n",
    "ax[0].plot(ts,phi)\n",
    "ax[0].grid(),ax[1].grid()\n",
    "\n",
    "ax[1].set_xlabel('$\\phi$')\n",
    "ax[1].set_ylabel(r'$\\frac{d\\phi}{dt}=\\dot{\\phi}$')\n",
    "\n",
    "ax[0].set_ylabel('$\\phi$')\n",
    "ax[0].set_xlabel('$t$')\n"
   ]
  },
  {
   "cell_type": "markdown",
   "metadata": {},
   "source": [
    "## Animerer"
   ]
  },
  {
   "cell_type": "code",
   "execution_count": null,
   "metadata": {},
   "outputs": [],
   "source": [
    "def angle_to_cartesian3(omega_val,amplitude,length,v,time_vals):\n",
    "    x = np.sin(v)*length\n",
    "    y = -np.cos(v)*length-amplitude*np.cos(omega_val*time_vals)\n",
    "    return [x,y]\n",
    "\n",
    "def angle_to_cartesian4(amplitude,omega_val,time_vals):\n",
    "    y = -amplitude*np.cos(omega_val*time_vals)\n",
    "    return y\n",
    "\n",
    "\n",
    "xs1 = angle_to_cartesian3(omega,A,l,phi,ts)[0].tolist()\n",
    "ys1 = angle_to_cartesian3(omega,A,l,phi,ts)[1].tolist()\n",
    "ys2 = angle_to_cartesian4(A,omega,ts).tolist()\n",
    "\n",
    "ys1[0],ys2[0]"
   ]
  },
  {
   "cell_type": "code",
   "execution_count": null,
   "metadata": {},
   "outputs": [],
   "source": [
    "fig, ax = plt.subplots(figsize=(8, 8))\n",
    "\n",
    "dot1, = ax.plot([],[],'ro',ms=8)\n",
    "line1, = ax.plot([],[],color='black')\n",
    "dot2, = ax.plot([],[],'ro',ms=8)\n",
    "\n",
    "tracer, = ax.plot([],[],linewidth = 1, color='green')\n",
    "\n",
    "def update(i):\n",
    "    dot1.set_data(xs1[i],ys1[i])\n",
    "    line1.set_data([0,xs1[i]],[ys2[i],ys1[i]])\n",
    "    dot2.set_data(0,ys2[i])\n",
    "    tracer.set_data(xs1[0:i+1],ys1[0:i+1])\n",
    "    \n",
    "    return line1, dot1, dot2, tracer\n",
    "\n",
    "ax.plot([0,0],[-A,A],linestyle='--',color='black')\n",
    "ax.plot([-7,7],[0,0],linestyle='-',color='black')\n",
    "\n",
    "ax.set_xlim(-7,7)\n",
    "ax.set_ylim(-7,7)\n",
    "anim = animation.FuncAnimation(fig,\n",
    "                               update,\n",
    "                               frames=len(ts),\n",
    "                               interval=10, \n",
    "                               blit=True,\n",
    "                               repeat_delay=0)\n",
    "anim"
   ]
  },
  {
   "cell_type": "code",
   "execution_count": null,
   "metadata": {},
   "outputs": [],
   "source": []
  }
 ],
 "metadata": {
  "kernelspec": {
   "display_name": "Python 3",
   "language": "python",
   "name": "python3"
  },
  "language_info": {
   "codemirror_mode": {
    "name": "ipython",
    "version": 3
   },
   "file_extension": ".py",
   "mimetype": "text/x-python",
   "name": "python",
   "nbconvert_exporter": "python",
   "pygments_lexer": "ipython3",
   "version": "3.7.6"
  }
 },
 "nbformat": 4,
 "nbformat_minor": 4
}
