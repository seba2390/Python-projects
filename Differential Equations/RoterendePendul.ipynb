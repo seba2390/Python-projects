{
 "cells": [
  {
   "cell_type": "code",
   "execution_count": null,
   "metadata": {},
   "outputs": [],
   "source": [
    "import numpy as np\n",
    "import matplotlib.pyplot as plt\n",
    "from scipy.integrate import solve_ivp\n",
    "from scipy.linalg import norm\n",
    "import matplotlib as matplotlib\n",
    "import matplotlib.pyplot as plt\n",
    "from matplotlib import animation, rc\n",
    "rc('animation', html='jshtml')\n",
    "## Sætter grænseværdien for animationsstørrelsen op##\n",
    "matplotlib.rcParams['animation.embed_limit'] = 2**128"
   ]
  },
  {
   "cell_type": "markdown",
   "metadata": {},
   "source": [
    "# Roterende pendul"
   ]
  },
  {
   "cell_type": "markdown",
   "metadata": {},
   "source": [
    "Et system med:\n",
    "\\begin{align}\n",
    "x&=Rcos(\\omega t)+Lsin(\\phi)\\\\\n",
    "y&=Rsin(\\omega t)-Lcos(\\phi)\n",
    "\\end{align}\n",
    "således at:\n",
    "\\begin{align}\n",
    "T&=\\frac{m}{2}\\big(L^2\\dot{\\phi}^2+R^2\\omega^2+2RL\\omega\\dot{\\phi}sin(\\phi-\\omega t)\\big)\\\\\n",
    "U&=mgL(1-cos(\\phi))+mgRsin(\\omega t)\\\\\n",
    "\\mathcal{L}(\\phi,\\dot{\\phi},t)&=\\frac{m}{2}\\Big(L^2\\dot{\\phi}^2+R^2\\omega^2+2RL\\omega\\dot{\\phi}sin(\\phi-\\omega t)\\Big)-mgL(1-cos(\\phi))-mgRsin(\\omega t)\\\\\n",
    "\\end{align}\n",
    "bevægelseslign.:\n",
    "\\begin{align}\n",
    "\\frac{\\partial \\mathcal{L}}{\\partial \\phi}&=\\frac{d}{dt}\\bigg(\\frac{\\partial \\mathcal{L}}{\\partial \\dot{\\phi}}\\bigg)\\\\\n",
    "mRL\\omega\\dot{\\phi}cos(\\phi-\\omega t)-sin(\\phi)mgL&=mL^2\\ddot{\\phi}+mRL\\omega cos(\\phi-\\omega t)(\\dot{\\phi}-\\omega)\\\\\n",
    "\\ddot{\\phi}&=\\frac{R}{L}\\omega^2cos(\\phi-\\omega t )-\\frac{g}{L}sin(\\phi)\\\\\n",
    "\\end{align}"
   ]
  },
  {
   "cell_type": "code",
   "execution_count": null,
   "metadata": {},
   "outputs": [],
   "source": [
    "m=2\n",
    "l = 2\n",
    "R = 2\n",
    "g = 9.82\n",
    "omega = 2\n",
    "\n",
    "tinit = 0\n",
    "tfinal = 10\n",
    "trange = [tinit,tfinal]\n",
    "\n",
    "##startbetingelser\n",
    "phi_0 = np.pi/3\n",
    "phi_prik_0 =0\n",
    "\n",
    "yinit = [phi_0,phi_prik_0]\n",
    "ts = np.linspace(tinit, tfinal, 1000)\n",
    "\n",
    "def dydt(t,y):\n",
    "    phi = y[0]\n",
    "    phi_prik = y[1]\n",
    "    \n",
    "    c1, c2 = np.cos(omega*t-phi), np.sin(phi)\n",
    "    \n",
    "    d_phi_dt = phi_prik\n",
    "    d_phi_prik_dt = (R/l)*omega**2*c1-(g/l)*c2\n",
    "    \n",
    "    return [d_phi_dt,d_phi_prik_dt]\n",
    "\n",
    "mysol = solve_ivp(dydt, trange, yinit, t_eval = ts,rtol=3e-14)\n",
    "ts = mysol.t\n",
    "phi = mysol.y[0]\n",
    "phi_prik = mysol.y[1]\n",
    "\n"
   ]
  },
  {
   "cell_type": "code",
   "execution_count": null,
   "metadata": {},
   "outputs": [],
   "source": [
    "\n",
    "plt.rc('font', size=15)\n",
    "fig,ax = plt.subplots(1,2,figsize=(20,6))\n",
    "ax[1].plot(phi,phi_prik)\n",
    "ax[0].plot(ts,phi)\n",
    "ax[0].grid(),ax[1].grid()\n",
    "\n",
    "ax[1].set_xlabel('$\\phi$')\n",
    "ax[1].set_ylabel(r'$\\frac{d\\phi}{dt}=\\dot{\\phi}$')\n",
    "\n",
    "ax[0].set_ylabel('$\\phi$')\n",
    "ax[0].set_xlabel('$t$')\n"
   ]
  },
  {
   "cell_type": "markdown",
   "metadata": {},
   "source": [
    "## Tjekker energibevarelse"
   ]
  },
  {
   "cell_type": "code",
   "execution_count": null,
   "metadata": {},
   "outputs": [],
   "source": [
    "#def energy(angle_vals,omega_val,time_vals,d_angle_dt_vals,mass,length,grav_acc,radius):\n",
    "#    c1, c2, c3 = np.sin(angle_vals-omega_val*time_vals), np.cos(angle_vals), np.sin(omega_val*time_vals)\n",
    "#    c4, c5, c6 = omega_val, d_angle_dt_vals, mass\n",
    "#    c7, c8, c9 = length, grav_acc, radius\n",
    "#    T = \n",
    "    \n",
    "#    #T = (c6/2)*(c9**2*c4**2+c7**2*c5**2+2*c9*c4*c7*c5*c1)\n",
    "#    #U = c6*c8*c9*(1-c2)-c6*c8*c9*c3\n",
    "#    E_tot = U+T\n",
    "#    return [T,U,E_tot]\n",
    "\n",
    "#T = energy(phi,omega,ts,phi_prik,m,l,g,R)[0]\n",
    "#U = energy(phi,omega,ts,phi_prik,m,l,g,R)[1]\n",
    "#E_tot = energy(phi,omega,ts,phi_prik,m,l,g,R)[2]\n",
    "\n",
    "#fig, ax = plt.subplots(figsize=(19,4))\n",
    "#ax.plot(ts,T,color='red',label='Kinetisk energi',linestyle='--')\n",
    "#ax.plot(ts,U,color='black',label='potentiel energi',linestyle='--')\n",
    "#ax.plot(ts,E_tot,label=r'$E_{tot}=T+U$',linestyle='--')\n",
    "#ax.hlines(0,ts[0],ts[-1]),ax.grid(), ax.legend(), ax.set_xlim(ts[0],ts[-1])\n",
    "\n"
   ]
  },
  {
   "cell_type": "code",
   "execution_count": null,
   "metadata": {},
   "outputs": [],
   "source": [
    "\n",
    "def angle_to_cartesian1(omega_val,radius,time_vals):\n",
    "    x = np.cos(omega_val*time_vals)*radius\n",
    "    y = np.sin(omega_val*time_vals)*radius\n",
    "    return [x,y]\n",
    "\n",
    "def angle_to_cartesian2(angle_vals,omega_val,radius,length,time_vals):\n",
    "    x = radius*np.cos(omega_val*time_vals)+length*np.sin(angle_vals)\n",
    "    y = radius*np.sin(omega*time_vals)-length*np.cos(angle_vals)\n",
    "    return [x,y]\n",
    "\n",
    "xs1 = angle_to_cartesian1(omega,R,ts)[0].tolist()\n",
    "ys1 = angle_to_cartesian1(omega,R,ts)[1].tolist()\n",
    "\n",
    "xs2 = angle_to_cartesian2(phi,omega,R,l,ts)[0].tolist()\n",
    "ys2 = angle_to_cartesian2(phi,omega,R,l,ts)[1].tolist()\n",
    "\n",
    "fig, ax = plt.subplots(figsize=(8, 8))\n",
    "\n",
    "dot1, = ax.plot([],[],'ro',ms=8)\n",
    "line1, = ax.plot([],[],color='black')\n",
    "dot2, = ax.plot([],[],'ro',ms=8)\n",
    "line2, = ax.plot([],[],color='black')\n",
    "tracer, = ax.plot([],[],linewidth = 1, color='green')\n",
    "\n",
    "def update(i):\n",
    "    dot1.set_data(xs1[i],ys1[i])\n",
    "    line1.set_data([0,xs1[i]],[0,ys1[i]])\n",
    "    dot2.set_data(xs2[i],ys2[i])\n",
    "    line2.set_data([xs1[i],xs2[i]],[ys1[i],ys2[i]])\n",
    "    tracer.set_data(xs2[0:i+1],ys2[0:i+1])\n",
    "    \n",
    "    return line1, dot1, line2, dot2, tracer\n",
    "\n",
    "def draw_circle(x,radius):\n",
    "    upper_part = np.sqrt(radius**2-x**2) \n",
    "    lower_part = -np.sqrt(radius**2-x**2) \n",
    "    return upper_part,lower_part\n",
    "\n",
    "xs = np.linspace(-R,R,1000)\n",
    "ax.plot(0,0,'bo', ms = 4)\n",
    "ax.plot(xs,draw_circle(xs,R)[0],linestyle='--',color='black')\n",
    "ax.plot(xs,draw_circle(xs,R)[1],linestyle='--',color='black')\n",
    "\n",
    "ax.set_xlim(-7,7)\n",
    "ax.set_ylim(-7,7)\n",
    "anim = animation.FuncAnimation(fig,\n",
    "                               update,\n",
    "                               frames=len(ts),\n",
    "                               interval=10,\n",
    "                               blit=True,\n",
    "                               repeat_delay=0)\n",
    "anim"
   ]
  },
  {
   "cell_type": "code",
   "execution_count": null,
   "metadata": {},
   "outputs": [],
   "source": []
  }
 ],
 "metadata": {
  "kernelspec": {
   "display_name": "Python 3",
   "language": "python",
   "name": "python3"
  },
  "language_info": {
   "codemirror_mode": {
    "name": "ipython",
    "version": 3
   },
   "file_extension": ".py",
   "mimetype": "text/x-python",
   "name": "python",
   "nbconvert_exporter": "python",
   "pygments_lexer": "ipython3",
   "version": "3.8.5"
  }
 },
 "nbformat": 4,
 "nbformat_minor": 4
}
