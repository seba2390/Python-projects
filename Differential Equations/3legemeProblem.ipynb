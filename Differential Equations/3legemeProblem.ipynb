{
 "cells": [
  {
   "cell_type": "code",
   "execution_count": null,
   "metadata": {},
   "outputs": [],
   "source": [
    "import numpy as np\n",
    "import matplotlib.pyplot as plt\n",
    "from scipy.integrate import solve_ivp\n",
    "from scipy.linalg import norm\n",
    "import matplotlib as matplotlib\n",
    "import matplotlib.pyplot as plt\n",
    "from matplotlib import animation, rc\n",
    "rc('animation', html='jshtml')\n",
    "## Sætter grænseværdien for animationsstørrelsen op##\n",
    "matplotlib.rcParams['animation.embed_limit'] = 2**128\n"
   ]
  },
  {
   "cell_type": "markdown",
   "metadata": {},
   "source": [
    "## Simulering af 3-legeme-interaktion i tyngdefelt ##"
   ]
  },
  {
   "cell_type": "markdown",
   "metadata": {},
   "source": [
    "De 3 bevægelsesligninger:\n",
    "\\begin{align}\n",
    "\\ddot{\\vec{r}_1}&=-Gm_2\\frac{\\vec{r}_1-\\vec{r}_2}{|\\vec{r}_1-\\vec{r}_2|^3}-Gm_3\\frac{\\vec{r}_1-\\vec{r}_3}{|\\vec{r}_1-\\vec{r}_3|^3}\\\\\n",
    "\\ddot{\\vec{r}_2}&=-Gm_3\\frac{\\vec{r}_2-\\vec{r}_3}{|\\vec{r}_2-\\vec{r}_3|^3}-Gm_1\\frac{\\vec{r}_2-\\vec{r}_1}{|\\vec{r}_2-\\vec{r}_1|^3}\\\\\n",
    "\\ddot{\\vec{r}_1}&=-Gm_1\\frac{\\vec{r}_3-\\vec{r}_1}{|\\vec{r}_3-\\vec{r}_1|^3}-Gm_2\\frac{\\vec{r}_3-\\vec{r}_2}{|\\vec{r}_3-\\vec{r}_2|^3}\\\\\n",
    "\\end{align}"
   ]
  },
  {
   "cell_type": "code",
   "execution_count": null,
   "metadata": {},
   "outputs": [],
   "source": [
    "#m1,m2,m3 = 3e9,3e9,3e9 ## masserne i enheder af kg\n",
    "#G = 6.67430e-11   ## Den universelle grav. konst. i N*m^2*kg^-2\n",
    "\n",
    "m1, m2, m3 = 1, 1, 1\n",
    "G = 1\n",
    "\n",
    "tinit = 0\n",
    "tfinal = 20\n",
    "trange = [tinit,tfinal]\n",
    "\n",
    "##startbetingelser###\n",
    "#r1_0, r2_0, r3_0 = [-1,0], [1,0], [0,0]\n",
    "#v1_0, v2_0, v3_0 = [0.417701,0.303455], [0.417701,0.303455], [-0.835402,-0.60691]\n",
    "\n",
    "r1_0, r2_0, r3_0 = [-0.97000436,0.24308753], [0,0], [0.97000436,-0.24308753]\n",
    "v1_0, v2_0, v3_0 = [0.4662036850,0.4323657300], [-0.93240737,-0.86473146], [0.4662036850,0.4323657300]\n",
    "\n",
    "y_init = np.concatenate([r1_0,v1_0,r2_0,v2_0,r3_0,v3_0])\n",
    "\n",
    "ts = np.linspace(tinit, tfinal, 1000)\n",
    "\n",
    "def dydt(t,y):\n",
    "    r1     = y[0:2]\n",
    "    r1_dot = y[2:4]\n",
    "    r2     = y[4:6]\n",
    "    r2_dot = y[6:8]\n",
    "    r3     = y[8:10]\n",
    "    r3_dot = y[10:12]\n",
    "    \n",
    "    d_r1_dt = r1_dot\n",
    "    d_r2_dt = r2_dot\n",
    "    d_r3_dt = r3_dot\n",
    "    \n",
    "    d_r1_dot_dt = -G*m2*((r1-r2)/(norm(r1-r2)**3))-G*m3*((r1-r3)/(norm(r1-r3)**3))\n",
    "    d_r2_dot_dt = -G*m3*((r2-r3)/(norm(r2-r3)**3))-G*m1*((r2-r1)/(norm(r2-r1)**3))\n",
    "    d_r3_dot_dt = -G*m1*((r3-r1)/(norm(r3-r1)**3))-G*m2*((r3-r2)/(norm(r3-r2)**3))\n",
    "    \n",
    "    return np.concatenate([d_r1_dt,d_r1_dot_dt,d_r2_dt,d_r2_dot_dt,d_r3_dt,d_r3_dot_dt])\n",
    "\n",
    "mysol = solve_ivp(dydt, trange, y_init, t_eval = ts,rtol=3e-14)\n",
    "\n",
    "time_vals = mysol.t\n",
    "\n",
    "r1_x, r1_y = mysol.y[0], mysol.y[1]\n",
    "v1_x, v1_y = mysol.y[2], mysol.y[3]\n",
    "\n",
    "r2_x, r2_y = mysol.y[4], mysol.y[5]\n",
    "v2_x, v2_y = mysol.y[6], mysol.y[7]\n",
    "\n",
    "r3_x, r3_y = mysol.y[8], mysol.y[9]\n",
    "v3_x, v3_y = mysol.y[10], mysol.y[11]\n",
    "\n",
    "plt.title('Bevægelseskurver for de 3 masser')\n",
    "plt.plot(r1_x,r1_y), plt.plot(r2_x,r2_y), plt.plot(r3_x,r3_y), plt.show()"
   ]
  },
  {
   "cell_type": "code",
   "execution_count": null,
   "metadata": {
    "scrolled": true
   },
   "outputs": [],
   "source": [
    "fig, ax = plt.subplots(3,2,figsize = (15,15))\n",
    "fig.suptitle('State-space plots af de 3 masser', fontsize=20)\n",
    "ax[0][0].plot(v1_x,r1_x), ax[0][1].plot(v1_y,r1_y), ax[0][0].grid(),  ax[0][1].grid()\n",
    "ax[1][0].plot(v2_x,r2_x), ax[1][1].plot(v2_y,r2_y), ax[1][0].grid(),  ax[1][1].grid()\n",
    "ax[2][0].plot(v3_x,r3_x), ax[2][1].plot(v3_y,r3_y), ax[2][0].grid(),  ax[2][1].grid()\n",
    "plt.show()"
   ]
  },
  {
   "cell_type": "code",
   "execution_count": null,
   "metadata": {},
   "outputs": [],
   "source": [
    "fig, ax = plt.subplots(figsize=(10, 10))\n",
    "\n",
    "mass1_line, = ax.plot([], [])\n",
    "mass1_dot, = ax.plot([],[],'ro')\n",
    "\n",
    "mass2_line, = ax.plot([], [])\n",
    "mass2_dot, = ax.plot([],[],'ro')\n",
    "\n",
    "mass3_line, = ax.plot([], [])\n",
    "mass3_dot, = ax.plot([],[],'ro')\n",
    "\n",
    "\n",
    "def update(i):\n",
    "    mass1_line.set_data(r1_x[0:i+1], r1_y[0:i+1])\n",
    "    mass1_dot.set_data(r1_x[i],r1_y[i])\n",
    "    \n",
    "    mass2_line.set_data(r2_x[0:i+1], r2_y[0:i+1])\n",
    "    mass2_dot.set_data(r2_x[i],r2_y[i])\n",
    "    \n",
    "    mass3_line.set_data(r3_x[0:i+1], r3_y[0:i+1])\n",
    "    mass3_dot.set_data(r3_x[i],r3_y[i])\n",
    "    return mass1_line, mass1_dot, mass2_line, mass2_dot, mass3_line, mass3_dot\n",
    "\n",
    "\n",
    "ax.set_xlim([-1.6, 1.6]), ax.set_ylim([-0.9, 0.9]), ax.set_aspect('equal')\n",
    "ax.hlines(0,-1.6,1.6), ax.vlines(0,-0.9,0.9), ax.grid()\n",
    "\n",
    "anim = animation.FuncAnimation(fig,\n",
    "                               update,\n",
    "                               frames=len(time_vals),\n",
    "                               interval=10,\n",
    "                               blit=True,\n",
    "                               repeat_delay=0)\n",
    "anim"
   ]
  }
 ],
 "metadata": {
  "kernelspec": {
   "display_name": "Python 3",
   "language": "python",
   "name": "python3"
  },
  "language_info": {
   "codemirror_mode": {
    "name": "ipython",
    "version": 3
   },
   "file_extension": ".py",
   "mimetype": "text/x-python",
   "name": "python",
   "nbconvert_exporter": "python",
   "pygments_lexer": "ipython3",
   "version": "3.9.7"
  }
 },
 "nbformat": 4,
 "nbformat_minor": 4
}
