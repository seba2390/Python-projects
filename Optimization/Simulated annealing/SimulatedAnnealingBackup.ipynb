{
 "cells": [
  {
   "cell_type": "code",
   "execution_count": 26,
   "metadata": {},
   "outputs": [],
   "source": [
    "import numpy as np\n",
    "import matplotlib.pyplot as plt\n",
    "import matplotlib as matplotlib\n",
    "from matplotlib import animation, rc\n",
    "rc('animation', html='jshtml')\n",
    "from matplotlib import cm\n",
    "from scipy.spatial import distance\n",
    "from itertools import permutations\n",
    "import random as random"
   ]
  },
  {
   "cell_type": "code",
   "execution_count": 385,
   "metadata": {},
   "outputs": [],
   "source": [
    "class SimulatedAnnealing:\n",
    "    \"\"\"\n",
    "    A class for computing simmulated annealing in the case\n",
    "    where the cost function is 1-Dimensional and \n",
    "    defined on a continuous bounded interval\n",
    "    \"\"\"\n",
    "    def __init__(self,cost_func,t_0,N_max,bounds,init_state = None):\n",
    " \n",
    "        self.cost_func   = cost_func\n",
    "        self.t_0\t     = t_0\n",
    "        self.N_max \t     = N_max\n",
    "        self.bounds      = bounds\n",
    "        \n",
    "        if init_state:\n",
    "            self.best_state = init_state\n",
    "        else:\n",
    "            self.best_state = self.initial_state()\n",
    "\n",
    "        self.best_energy = cost_func(self.best_state)\n",
    "        self.current_t      = self.t_0\n",
    "        self.current_state  = self.best_state\n",
    "        self.current_energy = cost_func(self.current_state)\n",
    "        self.history        = []        \n",
    "\n",
    "    def initial_state(self):\n",
    "        \"\"\"\n",
    "        A method for generating\n",
    "        a random starting point \n",
    "        withing the given bounds\n",
    "\n",
    "        \"\"\"\n",
    "        return self.bounds[0]+np.random.rand()* \\\n",
    "               (self.bounds[1]-self.bounds[0])\n",
    "\n",
    "    def annealing_schedule(self,method,index=1):\n",
    "        \"\"\"\n",
    "        A schedule for updating the\n",
    "        the temperature at each iteration\n",
    "        \"\"\"\n",
    "        if method == 'exponential schedule':\n",
    "            self.current_t *= 1.0/2.0\n",
    "        if method == 'logarithmic schedule':\n",
    "            self.current_t  = np.log(2.0)/np.log(index+1)\n",
    "        if method == 'fast annealing':\n",
    "            self.current_t  = self.t_0/(index)\n",
    "\n",
    "    def neighbour(self):\n",
    "        \"\"\"\n",
    "        A method for randomly choosing a\n",
    "        neighbour of the current state\n",
    "        within some distance\n",
    "        \"\"\"\n",
    "        ## Neighbour radius = 10 % of distance between bounds ##\n",
    "        factor = 0.3 \n",
    "        radius = factor*(self.bounds[1]-self.bounds[0])\n",
    "\n",
    "        low_lim, upper_lim = self.current_state-radius, self.current_state+radius\n",
    "        if low_lim <= self.bounds[0] or upper_lim >= self.bounds[1]:\n",
    "            while low_lim <= self.bounds[0] or upper_lim >= self.bounds[1]:\n",
    "                factor *= 0.5 \n",
    "                radius = factor*(self.bounds[1]-self.bounds[0])\n",
    "                low_lim, upper_lim = self.current_state-radius, self.current_state+radius\n",
    "\n",
    "        ## Setting to random in accepted lim ##\n",
    "        neighbour = random.uniform(low_lim,upper_lim)\n",
    "\n",
    "        ## Converging to edge -> reset to center ##\n",
    "        center = self.bounds[0]+0.5*(self.bounds[1]-self.bounds[0])\n",
    "        if np.abs(neighbour-self.bounds[0]) < (self.bounds[1]-self.bounds[0])/100:\n",
    "            neighbour = center\n",
    "        if np.abs(neighbour-self.bounds[1]) < (self.bounds[1]-self.bounds[0])/100:\n",
    "            neighbour = center\n",
    "        \n",
    "        #mu    = self.current_state                 # mean \n",
    "        #sigma = (self.bounds[1]-self.bounds[0])/20 # standard deviation\n",
    "        #neighbour = np.random.normal(mu, sigma, 1)[0]\n",
    "\n",
    "        return neighbour\n",
    "    \n",
    "    def probability(self,diff):\n",
    "        \"\"\"\n",
    "        A method for calculating\n",
    "        the acceptance probability\n",
    "        for a given difference and temperature\n",
    "        \"\"\"\n",
    "        return np.exp(-(diff/self.current_t))\n",
    "    \n",
    "    def simulate(self):\n",
    "        \"\"\"\n",
    "        A method for running the Simmulated Annealing \n",
    "        algorithm\n",
    "        \"\"\"\n",
    "        self.history.append(self.current_state)\n",
    "        for i in range(1,self.N_max+1):\n",
    "            self.annealing_schedule(method='fast annealing',index=i)\n",
    "            neighbour_state  = self.neighbour()\n",
    "            neighbour_energy = self.cost_func(neighbour_state)\n",
    "            energy_diff      = neighbour_energy - self.current_energy\n",
    "            rand   \t\t\t = np.random.rand()\n",
    "\n",
    "            if energy_diff <= 0.0 or rand < self.probability(energy_diff):\n",
    "                self.current_state  = neighbour_state\n",
    "                self.current_energy = neighbour_energy\n",
    "                \n",
    "            if neighbour_energy < self.best_energy:\n",
    "                self.best_state     = neighbour_state\n",
    "                self.best_energy    = neighbour_energy\n",
    "                self.best_energy_it = i\n",
    "\n",
    "            self.history.append(self.current_state)\n",
    "            \n",
    "        print(f'self.best_energy_it:',self.best_energy_it)\n",
    "            \n"
   ]
  },
  {
   "cell_type": "code",
   "execution_count": 384,
   "metadata": {},
   "outputs": [
    {
     "name": "stdout",
     "output_type": "stream",
     "text": [
      "self.best_energy_it: 72\n"
     ]
    },
    {
     "data": {
      "text/plain": [
       "[<matplotlib.lines.Line2D at 0x2935cd617c0>]"
      ]
     },
     "execution_count": 384,
     "metadata": {},
     "output_type": "execute_result"
    },
    {
     "data": {
      "image/png": "[encoded data removed]",
      "text/plain": [
       "<Figure size 432x288 with 1 Axes>"
      ]
     },
     "metadata": {
      "needs_background": "light"
     },
     "output_type": "display_data"
    }
   ],
   "source": [
    "def objective_func(x):\n",
    "    #return -(1.4 - 3.0 * x) * np.sin(18.0 * x)\n",
    "    #return np.sin(x) + np.sin((10.0 / 3.0) * x)\n",
    "    return 1+np.sin(np.power(x,2))+np.exp(x)/6\n",
    "\n",
    "t_0 = 10\n",
    "N_max = 100\n",
    "bounds = np.array([-2.8,4])\n",
    "test = SimulatedAnnealing(objective_func,t_0,N_max,bounds)\n",
    "test.simulate()\n",
    "plt.vlines(test.best_state,-3,3,color='r',lw=3)\n",
    "xs = np.linspace(-2.8,4.2,1000)\n",
    "plt.plot(xs,objective_func(xs))"
   ]
  },
  {
   "cell_type": "code",
   "execution_count": 340,
   "metadata": {},
   "outputs": [
    {
     "data": {
      "text/plain": [
       "3.004938150150829"
      ]
     },
     "execution_count": 340,
     "metadata": {},
     "output_type": "execute_result"
    }
   ],
   "source": [
    "mu, sigma = 3, 0.1 # mean and standard deviation\n",
    "s = np.random.normal(mu, sigma, 1)\n",
    "s[0]"
   ]
  },
  {
   "cell_type": "code",
   "execution_count": null,
   "metadata": {},
   "outputs": [],
   "source": []
  }
 ],
 "metadata": {
  "interpreter": {
   "hash": "35dd06db29a9a0cd68e5a27666f3c573d0b93713fc05a80a9e65ac9f9f7ca283"
  },
  "kernelspec": {
   "display_name": "Python 3.9.7 64-bit (windows store)",
   "name": "python3"
  },
  "language_info": {
   "codemirror_mode": {
    "name": "ipython",
    "version": 3
   },
   "file_extension": ".py",
   "mimetype": "text/x-python",
   "name": "python",
   "nbconvert_exporter": "python",
   "pygments_lexer": "ipython3",
   "version": "3.9.7"
  },
  "orig_nbformat": 4
 },
 "nbformat": 4,
 "nbformat_minor": 2
}
