{
 "cells": [
  {
   "cell_type": "code",
   "execution_count": 2,
   "metadata": {},
   "outputs": [],
   "source": [
    "import pandas as pd\n",
    "import numpy as np\n",
    "import matplotlib.pyplot as plt\n",
    "from copy import deepcopy\n",
    "\n",
    "from sklearn.ensemble import AdaBoostRegressor\n",
    "from sklearn.tree import DecisionTreeRegressor\n",
    "from sklearn.ensemble import GradientBoostingRegressor\n",
    "\n",
    "import csv  "
   ]
  },
  {
   "cell_type": "code",
   "execution_count": 68,
   "metadata": {},
   "outputs": [],
   "source": [
    "def sorted_nan_feature_indices(data_matrix):\n",
    "    ''' Getting index of features not represented by a number. '''  \n",
    "    NaN_features_idx = []\n",
    "    for row in range(data_matrix.shape[0]):\n",
    "        for col in range(data_matrix.shape[1]):\n",
    "            if type(data_matrix[row][col]) is not int or type(data_matrix[row][col]) is not float:\n",
    "                if col not in NaN_features_idx:\n",
    "                    NaN_features_idx.append(col)\n",
    "    NaN_features_idx = np.sort(NaN_features_idx,kind='heapsort')\n",
    "    return NaN_features_idx"
   ]
  },
  {
   "cell_type": "code",
   "execution_count": 69,
   "metadata": {},
   "outputs": [],
   "source": [
    "def col_2_matrix(col):\n",
    "    \"\"\"One hot encoding\"\"\"\n",
    "    different_values = np.unique(col)\n",
    "    matrix = np.zeros((len(col),len(different_values)))\n",
    "    for row in range(len(col)):\n",
    "        matrix[row][np.argwhere(col[row] == different_values)] = 1\n",
    "    return matrix"
   ]
  },
  {
   "cell_type": "code",
   "execution_count": 70,
   "metadata": {},
   "outputs": [],
   "source": [
    "def one_hot_encoding(data_matrix,NaN_features_indices):\n",
    "    init_mat = np.zeros((data_matrix.shape[0],1))\n",
    "    for col in range(data_matrix.shape[1]):\n",
    "        if col in NaN_features_indices:\n",
    "            one_hot_mat = col_2_matrix(data_matrix[:,col])\n",
    "            init_mat = np.concatenate([init_mat,one_hot_mat],axis=1)\n",
    "        else:\n",
    "            init_mat = np.concatenate([init_mat,data_matrix[:,col].reshape(3,1)],axis=1)\n",
    "    init_mat = init_mat[:,[i+1 for i in range(init_mat.shape[1]-1)]]       \n",
    "    return init_mat"
   ]
  },
  {
   "cell_type": "code",
   "execution_count": null,
   "metadata": {},
   "outputs": [],
   "source": []
  }
 ],
 "metadata": {
  "interpreter": {
   "hash": "de9184fb1100b1b99a61021f59422ac28d78a243336732ae833608768c206ac0"
  },
  "kernelspec": {
   "display_name": "Python 3.9.7 64-bit ('base': conda)",
   "language": "python",
   "name": "python3"
  },
  "language_info": {
   "codemirror_mode": {
    "name": "ipython",
    "version": 3
   },
   "file_extension": ".py",
   "mimetype": "text/x-python",
   "name": "python",
   "nbconvert_exporter": "python",
   "pygments_lexer": "ipython3",
   "version": "3.9.7"
  },
  "orig_nbformat": 4
 },
 "nbformat": 4,
 "nbformat_minor": 2
}
