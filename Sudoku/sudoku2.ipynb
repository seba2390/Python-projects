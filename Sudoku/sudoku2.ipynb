{
 "cells": [
  {
   "cell_type": "code",
   "execution_count": 115,
   "outputs": [],
   "source": [
    "import numpy as np\n",
    "import tk as tk"
   ],
   "metadata": {
    "collapsed": false,
    "pycharm": {
     "name": "#%%\n"
    }
   }
  },
  {
   "cell_type": "code",
   "execution_count": 116,
   "outputs": [],
   "source": [
    "class Sudoku:\n",
    "    def __init__(self):\n",
    "        self.sudoku     = self._initialize_sudoku()\n",
    "        self.numberlist = self._initialize_numberlist()\n",
    "        self.positions  = self._initialize_positions()\n",
    "\n",
    "    @staticmethod\n",
    "    def _initialize_sudoku():\n",
    "        return np.zeros((9,9),dtype=int)\n",
    "\n",
    "    @staticmethod\n",
    "    def _initialize_positions():\n",
    "        return [(i,j) for i in range(0,9) for j in range(0,9)]\n",
    "\n",
    "    @staticmethod\n",
    "    def _initialize_numberlist():\n",
    "        return np.array([1,2,3,4,5,6,7,8,9])\n",
    "\n",
    "    def _is_possible(self,row,col,number):\n",
    "        ## Checking column\n",
    "        for i in range(0,9):\n",
    "            if self.sudoku[i][col] == number:\n",
    "                return False\n",
    "        ## Checking row\n",
    "        for i in range(0,9):\n",
    "            if self.sudoku[row][i] == number:\n",
    "                return False\n",
    "        ## Checking square\n",
    "        row_0, col_0 = (row//3) * 3, (col//3) * 3\n",
    "        for i in range(0,3):\n",
    "            for j in range(0,3):\n",
    "                if self.sudoku[row_0 + i][col_0 + j] == number:\n",
    "                    return False\n",
    "        return True\n",
    "\n",
    "    def _check_sudoku(self):\n",
    "        for row in range(0 ,9):\n",
    "            for col in range(0 ,9):\n",
    "                if self.sudoku[row][col] == 0:\n",
    "                    return False\n",
    "        # We have a complete grid!\n",
    "        return True\n",
    "\n",
    "    def _permute_numberlist(self):\n",
    "        self.numberlist = np.random.permutation(self.numberlist)\n",
    "\n",
    "    def _permute_positions(self):\n",
    "        self.positions = np.random.permutation(self.positions)\n",
    "\n",
    "    def fill_sudoku(self):\n",
    "        self._permute_numberlist()\n",
    "        # Find next empty cell\n",
    "        row, col = None, None\n",
    "        for i in range(0, 81):\n",
    "            row = i // 9\n",
    "            col = i % 9\n",
    "            if self.sudoku[row][col] == 0:\n",
    "                for number in self.numberlist:\n",
    "                    # Check that this value has not already be used\n",
    "                   if self._is_possible(row,col,number):\n",
    "                        self.sudoku[row][col] = number\n",
    "                        if self._check_sudoku():\n",
    "                            return True\n",
    "                        else:\n",
    "                            if self.fill_sudoku():\n",
    "                                return True\n",
    "                break\n",
    "        self.sudoku[row][col] = 0\n",
    "\n",
    "    def generate_unique_sudoku(self):\n",
    "        currently_removed = None\n",
    "        self._permute_positions()\n",
    "        pos_nr = 0\n",
    "        while pos_nr < 81:\n",
    "            row,col               = self.positions[pos_nr]\n",
    "            currently_removed     = self.sudoku[row][col]\n",
    "            self.sudoku[row][col] = 0\n",
    "            self._permute_numberlist()\n",
    "            solution_counter = 0\n",
    "            for number in self.numberlist:\n",
    "                if self._is_possible(row,col,number):\n",
    "                    solution_counter += 1\n",
    "            if solution_counter > 1:\n",
    "                self.sudoku[row][col] = currently_removed\n",
    "                pos_nr += 1\n",
    "            elif solution_counter == 1:\n",
    "                pos_nr += 1\n",
    "            elif solution_counter == 0:\n",
    "                break\n",
    "\n",
    "    def print_sudoku(self):\n",
    "        for row in range(self.sudoku.shape[0]):\n",
    "            if row % 3 == 0 and row != 0:\n",
    "                print(\"- - - - - - - - - - - - \")\n",
    "            for col in range(self.sudoku.shape[1]):\n",
    "                if col % 3 == 0 and col != 0:\n",
    "                    print(\" | \", end = \"\")\n",
    "                if col == 8:\n",
    "                    print(self.sudoku[row][col])\n",
    "                else:\n",
    "                    print(str(self.sudoku[row][col]) + \" \", end=\"\")\n",
    "\n",
    "\n"
   ],
   "metadata": {
    "collapsed": false,
    "pycharm": {
     "name": "#%%\n"
    }
   }
  },
  {
   "cell_type": "code",
   "execution_count": 117,
   "outputs": [
    {
     "name": "stdout",
     "output_type": "stream",
     "text": [
      "7 1 9  | 4 2 8  | 5 3 6\n",
      "3 6 4  | 7 5 1  | 8 9 2\n",
      "8 5 2  | 3 9 6  | 1 4 7\n",
      "- - - - - - - - - - - - \n",
      "9 7 5  | 1 4 3  | 6 2 8\n",
      "2 4 1  | 8 6 9  | 3 7 5\n",
      "6 8 3  | 2 7 5  | 4 1 9\n",
      "- - - - - - - - - - - - \n",
      "1 9 8  | 6 3 7  | 2 5 4\n",
      "4 3 7  | 5 8 2  | 9 6 1\n",
      "5 2 6  | 9 1 4  | 7 8 3\n"
     ]
    }
   ],
   "source": [
    "my_sudoku = Sudoku()\n",
    "my_sudoku.fill_sudoku()\n",
    "my_sudoku.print_sudoku()"
   ],
   "metadata": {
    "collapsed": false,
    "pycharm": {
     "name": "#%%\n"
    }
   }
  },
  {
   "cell_type": "code",
   "execution_count": 118,
   "outputs": [
    {
     "name": "stdout",
     "output_type": "stream",
     "text": [
      "0 0 9  | 0 2 0  | 5 3 0\n",
      "0 6 4  | 7 0 0  | 0 9 2\n",
      "0 0 0  | 3 9 0  | 0 0 7\n",
      "- - - - - - - - - - - - \n",
      "0 0 5  | 0 4 3  | 6 2 8\n",
      "2 4 0  | 8 6 9  | 0 0 0\n",
      "6 8 0  | 0 0 5  | 4 1 0\n",
      "- - - - - - - - - - - - \n",
      "1 0 0  | 6 0 7  | 0 5 0\n",
      "0 3 0  | 5 8 0  | 9 6 0\n",
      "5 2 0  | 9 0 0  | 0 0 3\n"
     ]
    }
   ],
   "source": [
    "my_sudoku.generate_unique_sudoku()\n",
    "my_sudoku.print_sudoku()"
   ],
   "metadata": {
    "collapsed": false,
    "pycharm": {
     "name": "#%%\n"
    }
   }
  },
  {
   "cell_type": "code",
   "execution_count": null,
   "outputs": [],
   "source": [],
   "metadata": {
    "collapsed": false,
    "pycharm": {
     "name": "#%%\n"
    }
   }
  }
 ],
 "metadata": {
  "kernelspec": {
   "display_name": "Python 3",
   "language": "python",
   "name": "python3"
  },
  "language_info": {
   "codemirror_mode": {
    "name": "ipython",
    "version": 2
   },
   "file_extension": ".py",
   "mimetype": "text/x-python",
   "name": "python",
   "nbconvert_exporter": "python",
   "pygments_lexer": "ipython2",
   "version": "2.7.6"
  }
 },
 "nbformat": 4,
 "nbformat_minor": 0
}