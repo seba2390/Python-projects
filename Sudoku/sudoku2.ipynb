{
 "cells": [
  {
   "cell_type": "code",
   "execution_count": 11,
   "outputs": [],
   "source": [
    "import numpy as np\n",
    "import matplotlib.pyplot as plt\n",
    "from copy import deepcopy"
   ],
   "metadata": {
    "collapsed": false,
    "pycharm": {
     "name": "#%%\n"
    }
   }
  },
  {
   "cell_type": "code",
   "execution_count": 12,
   "outputs": [],
   "source": [
    "class Sudoku:\n",
    "    def __init__(self,initial_grid=None):\n",
    "        self.sudoku     = self._initialize_sudoku(initial_grid)\n",
    "        self.numberlist = self._initialize_numberlist()\n",
    "        self.positions  = self._initialize_positions()\n",
    "        self.solution   = np.zeros((9,9),dtype=int)\n",
    "\n",
    "    def _initialize_sudoku(self,initial_grid):\n",
    "        if initial_grid is None:\n",
    "            return np.zeros((9,9),dtype=int)\n",
    "        return initial_grid\n",
    "\n",
    "    @staticmethod\n",
    "    def _initialize_positions():\n",
    "        return [(i,j) for i in range(0,9) for j in range(0,9)]\n",
    "\n",
    "    @staticmethod\n",
    "    def _initialize_numberlist():\n",
    "        return np.array([1,2,3,4,5,6,7,8,9])\n",
    "\n",
    "    def _is_possible(self,row,col,number):\n",
    "        ## Checking column\n",
    "        for i in range(0,9):\n",
    "            if self.sudoku[i][col] == number:\n",
    "                return False\n",
    "        ## Checking row\n",
    "        for i in range(0,9):\n",
    "            if self.sudoku[row][i] == number:\n",
    "                return False\n",
    "        ## Checking square\n",
    "        row_0, col_0 = (row//3) * 3, (col//3) * 3\n",
    "        for i in range(0,3):\n",
    "            for j in range(0,3):\n",
    "                if self.sudoku[row_0 + i][col_0 + j] == number:\n",
    "                    return False\n",
    "        return True\n",
    "\n",
    "    def _check_sudoku(self):\n",
    "        for row in range(0 ,9):\n",
    "            for col in range(0 ,9):\n",
    "                if self.sudoku[row][col] == 0:\n",
    "                    return False\n",
    "        # We have a complete grid!\n",
    "        return True\n",
    "\n",
    "    def _permute_numberlist(self):\n",
    "        self.numberlist = np.random.permutation(self.numberlist)\n",
    "\n",
    "    def _permute_positions(self):\n",
    "        self.positions = np.random.permutation(self.positions)\n",
    "\n",
    "    def fill_sudoku(self):\n",
    "        self._permute_numberlist()\n",
    "        # Find next empty cell\n",
    "        row, col = None, None\n",
    "        for i in range(0, 81):\n",
    "            row = i // 9\n",
    "            col = i % 9\n",
    "            if self.sudoku[row][col] == 0:\n",
    "                for number in self.numberlist:\n",
    "                    # Check that this value has not already be used\n",
    "                   if self._is_possible(row,col,number):\n",
    "                        self.sudoku[row][col]   = number\n",
    "                        self.solution[row][col] = number\n",
    "                        if self._check_sudoku():\n",
    "                            return True\n",
    "                        else:\n",
    "                            if self.fill_sudoku():\n",
    "                                return True\n",
    "                break\n",
    "        self.sudoku[row][col]   = 0\n",
    "        self.solution[row][col] = 0\n",
    "\n",
    "    def generate_unique_sudoku(self):\n",
    "        currently_removed = None\n",
    "        self._permute_positions()\n",
    "        pos_nr = 0\n",
    "        while pos_nr < 81:\n",
    "            row,col               = self.positions[pos_nr]\n",
    "            currently_removed     = self.sudoku[row][col]\n",
    "            self.sudoku[row][col] = 0\n",
    "            self._permute_numberlist()\n",
    "            solution_counter = 0\n",
    "            for number in self.numberlist:\n",
    "                if self._is_possible(row,col,number):\n",
    "                    solution_counter += 1\n",
    "            if solution_counter > 1:\n",
    "                self.sudoku[row][col] = currently_removed\n",
    "                pos_nr += 1\n",
    "            elif solution_counter == 1:\n",
    "                pos_nr += 1\n",
    "            elif solution_counter == 0:\n",
    "                break\n",
    "\n",
    "    def print_sudoku(self):\n",
    "        for row in range(self.sudoku.shape[0]):\n",
    "            if row % 3 == 0 and row != 0:\n",
    "                print(\"- - - - - - - - - - -\")\n",
    "            for col in range(self.sudoku.shape[1]):\n",
    "                if col % 3 == 0 and col != 0:\n",
    "                    print(\"| \", end = \"\")\n",
    "                if col == 8:\n",
    "                    print(self.sudoku[row][col])\n",
    "                else:\n",
    "                    print(str(self.sudoku[row][col]) + \" \", end=\"\")\n",
    "\n",
    "\n"
   ],
   "metadata": {
    "collapsed": false,
    "pycharm": {
     "name": "#%%\n"
    }
   }
  },
  {
   "cell_type": "code",
   "execution_count": 13,
   "outputs": [
    {
     "name": "stdout",
     "output_type": "stream",
     "text": [
      "5 8 3 | 6 9 1 | 7 4 2\n",
      "9 1 7 | 3 2 4 | 6 8 5\n",
      "6 2 4 | 5 8 7 | 1 9 3\n",
      "- - - - - - - - - - -\n",
      "2 9 1 | 8 6 3 | 4 5 7\n",
      "7 3 5 | 1 4 9 | 2 6 8\n",
      "4 6 8 | 2 7 5 | 9 3 1\n",
      "- - - - - - - - - - -\n",
      "3 5 2 | 4 1 6 | 8 7 9\n",
      "1 7 6 | 9 5 8 | 3 2 4\n",
      "8 4 9 | 7 3 2 | 5 1 6\n"
     ]
    }
   ],
   "source": [
    "my_sudoku = Sudoku()\n",
    "my_sudoku.fill_sudoku()\n",
    "my_sudoku.print_sudoku()"
   ],
   "metadata": {
    "collapsed": false,
    "pycharm": {
     "name": "#%%\n"
    }
   }
  },
  {
   "cell_type": "code",
   "execution_count": 15,
   "outputs": [
    {
     "name": "stdout",
     "output_type": "stream",
     "text": [
      "5 0 3 | 0 9 0 | 7 4 0\n",
      "0 1 0 | 0 2 0 | 0 8 5\n",
      "6 0 0 | 0 8 7 | 1 0 3\n",
      "- - - - - - - - - - -\n",
      "0 9 0 | 8 0 0 | 4 5 7\n",
      "7 3 0 | 1 0 9 | 0 6 0\n",
      "0 6 0 | 2 0 5 | 0 0 1\n",
      "- - - - - - - - - - -\n",
      "3 5 2 | 0 0 6 | 8 7 0\n",
      "0 0 6 | 0 5 0 | 3 0 4\n",
      "8 0 0 | 7 3 2 | 5 0 0\n"
     ]
    }
   ],
   "source": [
    "my_sudoku.generate_unique_sudoku()\n",
    "my_sudoku.print_sudoku()"
   ],
   "metadata": {
    "collapsed": false,
    "pycharm": {
     "name": "#%%\n"
    }
   }
  },
  {
   "cell_type": "code",
   "execution_count": 16,
   "outputs": [],
   "source": [
    "# https://www.nature.com/articles/nature.2012.9751\n",
    "# Needs at least 17 numbers\n",
    "\n",
    "def set_holes(grid,remaining_numbers=81):\n",
    "    assert remaining_numbers >= 17, \"Should have at least 17 numbers according to https://www.nature.com/articles/nature.2012.9751\"\n",
    "    ## Generating random indices\n",
    "    indices = np.random.permutation([[i,j] for i in range(9) for j in range(9)])[:81-remaining_numbers]\n",
    "    ## Sets zero\n",
    "    grid[indices[:,0],indices[:,1]] = 0\n"
   ],
   "metadata": {
    "collapsed": false,
    "pycharm": {
     "name": "#%%\n"
    }
   }
  },
  {
   "cell_type": "code",
   "execution_count": 17,
   "outputs": [
    {
     "name": "stdout",
     "output_type": "stream",
     "text": [
      "CPU times: user 6.29 s, sys: 133 ms, total: 6.42 s\n",
      "Wall time: 6.44 s\n"
     ]
    }
   ],
   "source": [
    "%%time\n",
    "NR_SUDOKUS = 1000\n",
    "non_zeros = []\n",
    "for _ in range(NR_SUDOKUS):\n",
    "    my_sudoku = Sudoku()\n",
    "    my_sudoku.fill_sudoku()\n",
    "    my_sudoku.generate_unique_sudoku()\n",
    "    counter = 0\n",
    "    for i in range(9):\n",
    "        for j in range(9):\n",
    "            if my_sudoku.sudoku[i][j] != 0:\n",
    "                counter += 1\n",
    "    non_zeros.append(counter)\n"
   ],
   "metadata": {
    "collapsed": false,
    "pycharm": {
     "name": "#%%\n"
    }
   }
  },
  {
   "cell_type": "code",
   "execution_count": 21,
   "outputs": [
    {
     "name": "stdout",
     "output_type": "stream",
     "text": [
      "34\n"
     ]
    },
    {
     "data": {
      "text/plain": "<Figure size 432x288 with 1 Axes>",
      "image/png": "[encoded data removed]"
     },
     "metadata": {
      "needs_background": "light"
     },
     "output_type": "display_data"
    }
   ],
   "source": [
    "plt.hist(non_zeros,bins=20,edgecolor=\"k\")\n",
    "plt.xlabel(\"# non-zeros in sudoku\",fontsize=15)\n",
    "print(np.min(non_zeros))\n",
    "plt.show()"
   ],
   "metadata": {
    "collapsed": false,
    "pycharm": {
     "name": "#%%\n"
    }
   }
  },
  {
   "cell_type": "code",
   "execution_count": null,
   "outputs": [],
   "source": [],
   "metadata": {
    "collapsed": false,
    "pycharm": {
     "name": "#%%\n"
    }
   }
  }
 ],
 "metadata": {
  "kernelspec": {
   "display_name": "Python 3",
   "language": "python",
   "name": "python3"
  },
  "language_info": {
   "codemirror_mode": {
    "name": "ipython",
    "version": 2
   },
   "file_extension": ".py",
   "mimetype": "text/x-python",
   "name": "python",
   "nbconvert_exporter": "python",
   "pygments_lexer": "ipython2",
   "version": "2.7.6"
  }
 },
 "nbformat": 4,
 "nbformat_minor": 0
}