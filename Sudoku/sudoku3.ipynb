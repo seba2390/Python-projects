{
 "cells": [
  {
   "cell_type": "code",
   "execution_count": 211,
   "outputs": [],
   "source": [
    "import numpy as np\n",
    "import matplotlib.pyplot as plt\n",
    "from copy import deepcopy"
   ],
   "metadata": {
    "collapsed": false,
    "pycharm": {
     "name": "#%%\n"
    }
   }
  },
  {
   "cell_type": "code",
   "execution_count": 212,
   "outputs": [],
   "source": [
    "class Sudoku:\n",
    "    def __init__(self,initial_grid=None):\n",
    "        self.sudoku     = self._initialize_sudoku(initial_grid)\n",
    "        self.numberlist = self._initialize_numberlist()\n",
    "        self.positions  = self._initialize_positions()\n",
    "        self.solution   = np.zeros((9,9),dtype=int)\n",
    "\n",
    "    def _initialize_sudoku(self,initial_grid):\n",
    "        if initial_grid is None:\n",
    "            return np.zeros((9,9),dtype=int)\n",
    "        return initial_grid\n",
    "\n",
    "    @staticmethod\n",
    "    def _initialize_positions():\n",
    "        return [(i,j) for i in range(0,9) for j in range(0,9)]\n",
    "\n",
    "    @staticmethod\n",
    "    def _initialize_numberlist():\n",
    "        return np.array([1,2,3,4,5,6,7,8,9])\n",
    "\n",
    "    def _is_possible(self,row,col,number):\n",
    "        ## Checking column\n",
    "        for i in range(0,9):\n",
    "            if self.sudoku[i][col] == number:\n",
    "                return False\n",
    "        ## Checking row\n",
    "        for i in range(0,9):\n",
    "            if self.sudoku[row][i] == number:\n",
    "                return False\n",
    "        ## Checking square\n",
    "        row_0, col_0 = (row//3) * 3, (col//3) * 3\n",
    "        for i in range(0,3):\n",
    "            for j in range(0,3):\n",
    "                if self.sudoku[row_0 + i][col_0 + j] == number:\n",
    "                    return False\n",
    "        return True\n",
    "\n",
    "    def _check_sudoku(self):\n",
    "        for row in range(0 ,9):\n",
    "            for col in range(0 ,9):\n",
    "                if self.sudoku[row][col] == 0:\n",
    "                    return False\n",
    "        # We have a complete grid!\n",
    "        return True\n",
    "\n",
    "    def _permute_numberlist(self):\n",
    "        self.numberlist = np.random.permutation(self.numberlist)\n",
    "\n",
    "    def _permute_positions(self):\n",
    "        self.positions = np.random.permutation(self.positions)\n",
    "\n",
    "    def fill_sudoku(self):\n",
    "        self._permute_numberlist()\n",
    "        # Find next empty cell\n",
    "        row, col = None, None\n",
    "        for i in range(0, 81):\n",
    "            row = i // 9\n",
    "            col = i % 9\n",
    "            if self.sudoku[row][col] == 0:\n",
    "                for number in self.numberlist:\n",
    "                    # Check that this value has not already be used\n",
    "                   if self._is_possible(row,col,number):\n",
    "                        self.sudoku[row][col]   = number\n",
    "                        self.solution[row][col] = number\n",
    "                        if self._check_sudoku():\n",
    "                            return True\n",
    "                        else:\n",
    "                            if self.fill_sudoku():\n",
    "                                return True\n",
    "                break\n",
    "        self.sudoku[row][col]   = 0\n",
    "        self.solution[row][col] = 0\n",
    "\n",
    "    def generate_unique_sudoku(self):\n",
    "        currently_removed = None\n",
    "        self._permute_positions()\n",
    "        pos_nr = 0\n",
    "        while pos_nr < 81:\n",
    "            row,col               = self.positions[pos_nr]\n",
    "            currently_removed     = self.sudoku[row][col]\n",
    "            self.sudoku[row][col] = 0\n",
    "            self._permute_numberlist()\n",
    "            solution_counter = 0\n",
    "            for number in self.numberlist:\n",
    "                if self._is_possible(row,col,number):\n",
    "                    solution_counter += 1\n",
    "            if solution_counter > 1:\n",
    "                self.sudoku[row][col] = currently_removed\n",
    "                pos_nr += 1\n",
    "            elif solution_counter == 1:\n",
    "                pos_nr += 1\n",
    "            elif solution_counter == 0:\n",
    "                break\n",
    "\n",
    "    def print_sudoku(self,grid = None):\n",
    "        if grid is None: array = self.sudoku\n",
    "        else: array = grid\n",
    "        for row in range(array.shape[0]):\n",
    "            if row % 3 == 0 and row != 0:\n",
    "                print(\"- - - - - - - - - - -\")\n",
    "            for col in range(array.shape[1]):\n",
    "                if col % 3 == 0 and col != 0:\n",
    "                    print(\"| \", end = \"\")\n",
    "                if col == 8:\n",
    "                    print(array[row][col])\n",
    "                else:\n",
    "                    print(str(array[row][col]) + \" \", end=\"\")\n",
    "\n",
    "\n",
    "\n"
   ],
   "metadata": {
    "collapsed": false,
    "pycharm": {
     "name": "#%%\n"
    }
   }
  },
  {
   "cell_type": "code",
   "execution_count": 213,
   "outputs": [
    {
     "name": "stdout",
     "output_type": "stream",
     "text": [
      "5 3 2 | 9 4 8 | 7 6 1\n",
      "1 6 4 | 3 5 7 | 9 2 8\n",
      "7 8 9 | 1 6 2 | 4 5 3\n",
      "- - - - - - - - - - -\n",
      "9 5 6 | 4 8 1 | 2 3 7\n",
      "8 2 3 | 6 7 9 | 5 1 4\n",
      "4 7 1 | 5 2 3 | 8 9 6\n",
      "- - - - - - - - - - -\n",
      "2 9 8 | 7 1 6 | 3 4 5\n",
      "6 4 7 | 2 3 5 | 1 8 9\n",
      "3 1 5 | 8 9 4 | 6 7 2\n"
     ]
    }
   ],
   "source": [
    "my_sudoku = Sudoku()\n",
    "my_sudoku.fill_sudoku()\n",
    "my_sudoku.print_sudoku()"
   ],
   "metadata": {
    "collapsed": false,
    "pycharm": {
     "name": "#%%\n"
    }
   }
  },
  {
   "cell_type": "code",
   "execution_count": 214,
   "outputs": [
    {
     "name": "stdout",
     "output_type": "stream",
     "text": [
      "0 0 2 | 9 4 0 | 7 0 0\n",
      "1 6 4 | 0 5 0 | 0 0 8\n",
      "7 8 0 | 1 0 0 | 4 5 3\n",
      "- - - - - - - - - - -\n",
      "0 5 6 | 0 0 1 | 2 3 0\n",
      "0 0 0 | 0 0 9 | 0 1 4\n",
      "4 7 1 | 0 0 3 | 8 0 6\n",
      "- - - - - - - - - - -\n",
      "2 0 8 | 0 1 6 | 3 4 5\n",
      "0 4 7 | 0 3 5 | 1 0 0\n",
      "3 1 0 | 8 0 0 | 0 0 2\n"
     ]
    }
   ],
   "source": [
    "my_sudoku.generate_unique_sudoku()\n",
    "my_sudoku.print_sudoku()"
   ],
   "metadata": {
    "collapsed": false,
    "pycharm": {
     "name": "#%%\n"
    }
   }
  },
  {
   "cell_type": "code",
   "execution_count": 215,
   "outputs": [],
   "source": [
    "def check_sudoku(grid):\n",
    "    for row in range(0 ,9):\n",
    "        for col in range(0 ,9):\n",
    "            if grid[row][col] == 0:\n",
    "                return False\n",
    "    # We have a complete grid!\n",
    "    return True\n",
    "\n",
    "def initialize_random_positions():\n",
    "    return [(i,j) for i in range(0,9) for j in range(0,9)]\n",
    "\n",
    "def is_possible(grid,row,col,number):\n",
    "        ## Checking column\n",
    "        for i in range(0,9):\n",
    "            if grid[i][col] == number:\n",
    "                return False\n",
    "        ## Checking row\n",
    "        for i in range(0,9):\n",
    "            if grid[row][i] == number:\n",
    "                return False\n",
    "        ## Checking square\n",
    "        row_0, col_0 = (row//3) * 3, (col//3) * 3\n",
    "        for i in range(0,3):\n",
    "            for j in range(0,3):\n",
    "                if grid[row_0 + i][col_0 + j] == number:\n",
    "                    return False\n",
    "        return True\n",
    "\n"
   ],
   "metadata": {
    "collapsed": false,
    "pycharm": {
     "name": "#%%\n"
    }
   }
  },
  {
   "cell_type": "code",
   "execution_count": 216,
   "outputs": [
    {
     "name": "stdout",
     "output_type": "stream",
     "text": [
      "0 0 2 | 9 4 0 | 7 0 0\n",
      "1 6 4 | 0 5 0 | 0 0 8\n",
      "7 8 0 | 1 0 0 | 4 5 3\n",
      "- - - - - - - - - - -\n",
      "0 5 6 | 0 0 1 | 2 3 0\n",
      "0 0 0 | 0 0 9 | 0 1 4\n",
      "4 7 1 | 0 0 3 | 8 0 6\n",
      "- - - - - - - - - - -\n",
      "2 0 8 | 0 1 6 | 3 4 5\n",
      "0 4 7 | 0 3 5 | 1 0 0\n",
      "3 1 0 | 8 0 0 | 0 0 2\n"
     ]
    }
   ],
   "source": [
    "my_grid = deepcopy(my_sudoku.sudoku)\n",
    "my_sudoku.print_sudoku()"
   ],
   "metadata": {
    "collapsed": false,
    "pycharm": {
     "name": "#%%\n"
    }
   }
  },
  {
   "cell_type": "code",
   "execution_count": 217,
   "outputs": [],
   "source": [
    "def set_annotations(grid,annotation_tensor):\n",
    "    number_list = [i for i in range(1,10)]\n",
    "    for row_idx in range(9):\n",
    "        for col_idx in range(9):\n",
    "            if grid[row_idx][col_idx] == 0:\n",
    "                for number in number_list:\n",
    "                    if is_possible(grid,row_idx,col_idx,number):\n",
    "                        annotation_tensor[row_idx][col_idx][number-1] = number\n",
    "\n",
    "\n",
    "def update_annotations(row,col,number,annotation_tensor):\n",
    "    # Update corresponding row of annotations\n",
    "    for col_idx in range(0,9):\n",
    "        if number in annotation_tensor[row][col_idx]:\n",
    "            annotation_tensor[row][col_idx][number-1] = 0\n",
    "\n",
    "    # Update corresponding col of annotations\n",
    "    for row_idx in range(0,9):\n",
    "        if number in annotation_tensor[row_idx][col]:\n",
    "            annotation_tensor[row_idx][col][number-1] = 0\n",
    "\n",
    "    # Update corresponding square of annotations\n",
    "    row_0, col_0 = (row//3) * 3, (col//3) * 3\n",
    "    for square_x in range(0,3):\n",
    "        for square_y in range(0,3):\n",
    "            if number in annotation_tensor[row_0+square_x][col_0+square_y]:\n",
    "                annotation_tensor[row_0+square_x][col_0+square_y][number-1] = 0\n",
    "\n",
    "    # Remove all annotations from entry (row,col) (this is where number is placed)\n",
    "    for idx, val in enumerate(annotation_tensor[row][col]):\n",
    "        if val != 0: annotation_tensor[row][col][idx] = 0"
   ],
   "metadata": {
    "collapsed": false,
    "pycharm": {
     "name": "#%%\n"
    }
   }
  },
  {
   "cell_type": "code",
   "execution_count": 218,
   "outputs": [],
   "source": [
    "def naked_singles(grid,annotation_tensor) -> bool:\n",
    "    succes = False\n",
    "    for row_idx in range(annotation_tensor.shape[0]):\n",
    "        for col_idx in range(annotation_tensor.shape[1]):\n",
    "            # Only one annotation\n",
    "            if np.count_nonzero(annotation_tensor[row_idx][col_idx]) == 1:\n",
    "                # set value in grid\n",
    "                grid[row_idx][col_idx] = int(np.nonzero(annotation_tensor[row_idx][col_idx])[0][0])\n",
    "                # update annotation_tensor\n",
    "                update_annotations(row_idx,col_idx,grid[row_idx][col_idx],annotation_tensor)\n",
    "                succes = True\n",
    "    return succes\n",
    "\n",
    "def hidden_singles(grid,annotation_tensor) -> bool:\n",
    "    succes = False\n",
    "    occurence_counter = 0\n",
    "    for number in range(1,10):\n",
    "\n",
    "        # Checking rows\n",
    "        occurence_counter = 0\n",
    "        row_idx, col_idx = None, None\n",
    "        for row in range(0,9):\n",
    "            for col in range(0,9):\n",
    "                if number in annotation_tensor[row][col]:\n",
    "                    occurence_counter += 1\n",
    "                    row_idx, col_idx = row, col\n",
    "            if occurence_counter == 1:\n",
    "                grid[row_idx][col_idx] = number\n",
    "                update_annotations(row_idx,col_idx,grid[row_idx][col_idx],annotation_tensor)\n",
    "                succes = True\n",
    "\n",
    "        # Checking cols\n",
    "        occurence_counter = 0\n",
    "        row_idx, col_idx = None, None\n",
    "        for col in range(0,9):\n",
    "            for row in range(0,9):\n",
    "                if number in annotation_tensor[row][col]:\n",
    "                    occurence_counter += 1\n",
    "                    row_idx, col_idx = row, col\n",
    "            if occurence_counter == 1:\n",
    "                grid[row_idx][col_idx] = number\n",
    "                update_annotations(row_idx,col_idx,grid[row_idx][col_idx],annotation_tensor)\n",
    "                succes = True\n",
    "\n",
    "        # Checking square\n",
    "        for square_x in range(0,3):\n",
    "            for square_y in range(0,3):\n",
    "                box_x,box_y = square_x*3,square_y*3\n",
    "\n",
    "                occurence_counter = 0\n",
    "                row_idx, col_idx  = None, None\n",
    "                for i in range(0,3):\n",
    "                    for j in range(0,3):\n",
    "                        if number in annotation_tensor[box_x*3+i][box_y*3+j]:\n",
    "                            occurence_counter += 1\n",
    "                            row_idx, col_idx   = box_x*3+i, box_y*3+j\n",
    "                if occurence_counter == 1:\n",
    "                    grid[row_idx][col_idx] = number\n",
    "                    update_annotations(row_idx,col_idx,grid[row_idx][col_idx],annotation_tensor)\n",
    "                    succes = True\n",
    "    return succes"
   ],
   "metadata": {
    "collapsed": false,
    "pycharm": {
     "name": "#%%\n"
    }
   }
  },
  {
   "cell_type": "code",
   "execution_count": 219,
   "outputs": [],
   "source": [
    "def naked_pairs(annotation_tensor) -> bool:\n",
    "    succes = False\n",
    "    for row in range(0,9):\n",
    "        for col in range(0,9):\n",
    "            # First set of two annotations\n",
    "            if np.count_nonzero(annotation_tensor[row][col]) == 2:\n",
    "                pair = annotation_tensor[row][col][np.nonzero(annotation_tensor[row][col])[0]]\n",
    "                # check against row\n",
    "                for remaining_col in range(col,9):\n",
    "                    # Second set of two annotations - now we have a pair!\n",
    "                    if np.count_nonzero(annotation_tensor[row][remaining_col]) == 2:\n",
    "                        if pair[0] in annotation_tensor[row][remaining_col] and pair[1] in annotation_tensor[row][remaining_col]:\n",
    "                            # Checking all annotations in row for numbers in current pair\n",
    "                            for i in range(0,9):\n",
    "                                if (row,col) != (row,i) and (row, remaining_col) != (row,i):\n",
    "                                    # Removing annotations\n",
    "                                     annotation_tensor[row][i][pair[0]-1] = 0\n",
    "                                     annotation_tensor[row][i][pair[1]-1] = 0\n",
    "                                     succes = True\n",
    "                # check against col\n",
    "                for remaining_row in range(row,9):\n",
    "                    # Second set of two annotations - now we have a pair!\n",
    "                    if np.count_nonzero(annotation_tensor[remaining_row][col]) == 2:\n",
    "                        if pair[0] in annotation_tensor[remaining_row][col] and pair[1] in annotation_tensor[remaining_row][col]:\n",
    "                            # Checking all annotations in col for numbers in current pair\n",
    "                            for i in range(0,9):\n",
    "                                if (row,col) != (i,col) and (remaining_row, col) != (i,col):\n",
    "                                    # Removing annotations\n",
    "                                     annotation_tensor[i][col][pair[0]-1] = 0\n",
    "                                     annotation_tensor[i][col][pair[1]-1] = 0\n",
    "                                     succes = True\n",
    "\n",
    "                # check against square\n",
    "                row_0, col_0 = (row//3) * 3, (col//3) * 3\n",
    "                for square_x in range(0,3):\n",
    "                    for square_y in range(0,3):\n",
    "                        # Second set of two annotations - now we have a pair!\n",
    "                        if np.count_nonzero(annotation_tensor[row_0 + square_x][col_0 + square_y]) == 2:\n",
    "                            if pair[0] in annotation_tensor[row_0 + square_x][col_0 + square_y] and pair[1] in annotation_tensor[row_0 + square_x][col_0 + square_y]:\n",
    "                                # Checking all annotations in square for numbers in current pair\n",
    "                                for i in range(0,3):\n",
    "                                    for j in range(0,3):\n",
    "                                        # only comparing w. instances of at least 2 annotations (therefore no checking against itself)\n",
    "                                        if (row,col) != (row_0 + i,col_0 + j) and (row_0 + square_x,col_0 + square_y) != (row_0 + i,col_0 + j):\n",
    "                                            # Removing annotations\n",
    "                                            annotation_tensor[row_0 + i][col_0 + j][pair[0]-1] = 0\n",
    "                                            annotation_tensor[row_0 + i][col_0 + j][pair[1]-1] = 0\n",
    "                                            succes = True\n",
    "    return succes"
   ],
   "metadata": {
    "collapsed": false,
    "pycharm": {
     "name": "#%%\n"
    }
   }
  },
  {
   "cell_type": "code",
   "execution_count": 220,
   "outputs": [],
   "source": [
    "def uniqe_nonzero_pairs(annotation_list) -> np.ndarray:\n",
    "    pairs = []\n",
    "    for num1 in range(0,len(annotation_list)):\n",
    "        if annotation_list[num1] != 0:\n",
    "            for num2 in range(num1+1,len(annotation_list)):\n",
    "                if annotation_list[num2] != 0:\n",
    "                    pairs.append([annotation_list[num1],annotation_list[num2]])\n",
    "    return np.array(pairs)"
   ],
   "metadata": {
    "collapsed": false,
    "pycharm": {
     "name": "#%%\n"
    }
   }
  },
  {
   "cell_type": "code",
   "execution_count": 221,
   "outputs": [],
   "source": [
    "def hidden_pairs(annotation_tensor) -> bool:\n",
    "    succes = False\n",
    "    for col in range(0,9):\n",
    "        for row in range(0,9):\n",
    "            # Only checking when at least two annotations in first item of hidden-pair\n",
    "            if np.count_nonzero(annotation_tensor[row][col]) >= 2:\n",
    "                # All unique non-zero pairs in annotations of first item in hidden-pair\n",
    "                current_pairs = uniqe_nonzero_pairs(annotation_tensor[row][col])\n",
    "                for pair in current_pairs:\n",
    "                    # check against row\n",
    "                    for remaining_col in range(col,9):\n",
    "                        # Candidate second item of hidden-pair\n",
    "                        if np.count_nonzero(annotation_tensor[row][remaining_col]) >= 2:\n",
    "                            if pair[0] in annotation_tensor[row][remaining_col] and pair[1] in annotation_tensor[row][remaining_col]:\n",
    "\n",
    "                                # Assuring that hidden-pairs is unique (no other relevant occurrence of pair)\n",
    "                                uniqueness_counter = 0\n",
    "\n",
    "                                # Row\n",
    "                                for i in range(0,9):\n",
    "                                    # No checking against itself!\n",
    "                                    if (row,i) != (row,col) and (row,i) != (row,remaining_col):\n",
    "                                        if pair[0] in annotation_tensor[row][i] and pair[1] in annotation_tensor[row][i]:\n",
    "                                            uniqueness_counter += 1\n",
    "\n",
    "                                # Pair of annotations in hidden pair are is unique\n",
    "                                if uniqueness_counter == 0:\n",
    "                                    # Remove all other annotations from hidden pair\n",
    "                                    annotation_tensor[row][remaining_col][(annotation_tensor[row][remaining_col] != pair[0]) & (annotation_tensor[row][remaining_col] !=pair[1])] = 0\n",
    "                                    annotation_tensor[row][col][(annotation_tensor[row][col] != pair[0]) & (annotation_tensor[row][col] !=pair[1])]                               = 0\n",
    "                                    succes = True\n",
    "\n",
    "                    # check against col\n",
    "                    for remaining_row in range(row,9):\n",
    "                        # Candidate second item of hidden-pair\n",
    "                        if np.count_nonzero(annotation_tensor[remaining_row][col]) >= 2:\n",
    "                            if pair[0] in annotation_tensor[remaining_row][col] and pair[1] in annotation_tensor[remaining_row][col]:\n",
    "                                # Assuring that hidden-pairs is unique (no other relevant occurrence of pair)\n",
    "                                uniqueness_counter = 0\n",
    "\n",
    "                                # Col\n",
    "                                for i in range(0,9):\n",
    "                                    # No checking against itself!\n",
    "                                    if (i,col) != (row,col) and (i,col) != (remaining_row,col):\n",
    "                                        if pair[0] in annotation_tensor[i][col] and pair[1] in annotation_tensor[i][col] :\n",
    "                                            uniqueness_counter += 1\n",
    "\n",
    "                                # Pair of annotations in hidden pair are is unique\n",
    "                                if uniqueness_counter == 0:\n",
    "                                    # Remove all other annotations from hidden pair\n",
    "                                    annotation_tensor[remaining_row][col][(annotation_tensor[remaining_row][col] != pair[0]) & (annotation_tensor[remaining_row][col] !=pair[1])] = 0\n",
    "                                    annotation_tensor[row][col][(annotation_tensor[row][col] != pair[0]) & (annotation_tensor[row][col] !=pair[1])]                               = 0\n",
    "                                    succes = True\n",
    "\n",
    "                    # check against square\n",
    "                    row_0, col_0 = (row//3) * 3, (col//3) * 3\n",
    "                    for i in range(0,3):\n",
    "                        for j in range(0,3):\n",
    "                            # Candidate second item of hidden-pair\n",
    "                            if np.count_nonzero(annotation_tensor[row_0 + i][col_0 + j]) >= 2:\n",
    "                                if pair[0] in annotation_tensor[row_0 + i][col_0 + j] and pair[1] in annotation_tensor[row_0 + i][col_0 + j]:\n",
    "                                    # Assuring that hidden-pairs is unique (no other relevant occurrence of pair)\n",
    "                                    uniqueness_counter = 0\n",
    "\n",
    "                                    # Square\n",
    "                                    for k in range(0,3):\n",
    "                                        for l in range(0,3):\n",
    "                                            # No checking against itself!\n",
    "                                            if (row_0 + k,col_0 + l) != (row,col) and (row_0 + k,col_0 + l) != (row_0 + i,col_0 + j):\n",
    "                                                if pair[0] in annotation_tensor[row_0 + k][col_0 + l] and pair[1] in annotation_tensor[row_0 + k][col_0 + l]:\n",
    "                                                    uniqueness_counter += 1\n",
    "\n",
    "                                    # Pair of annotations in hidden pair are is unique\n",
    "                                    if uniqueness_counter == 0:\n",
    "                                        # Remove all other annotations from hidden pair\n",
    "                                        annotation_tensor[row_0 + i][col_0 + j][(annotation_tensor[row_0 + i][col_0 + j] != pair[0]) & (annotation_tensor[row_0 + i][col_0 + j]!=pair[1])] = 0\n",
    "                                        annotation_tensor[row][col][(annotation_tensor[row][col] != pair[0]) & (annotation_tensor[row][col] !=pair[1])]                                    = 0\n",
    "                                        succes = True\n",
    "    return succes"
   ],
   "metadata": {
    "collapsed": false,
    "pycharm": {
     "name": "#%%\n"
    }
   }
  },
  {
   "cell_type": "code",
   "execution_count": 222,
   "outputs": [],
   "source": [
    "def solvable(grid,annotation_tensor):\n",
    "\n",
    "    if naked_singles(grid,annotation_tensor):\n",
    "        if check_sudoku(grid):\n",
    "            return True\n",
    "        else:\n",
    "            solvable(grid,annotation_tensor)\n",
    "\n",
    "    elif hidden_singles(grid,annotation_tensor):\n",
    "        if check_sudoku(grid):\n",
    "            return True\n",
    "        else:\n",
    "            solvable(grid,annotation_tensor)\n",
    "\n",
    "    elif naked_pairs(annotation_tensor):\n",
    "        solvable(grid,annotation_tensor)\n",
    "\n",
    "    elif hidden_pairs(annotation_tensor):\n",
    "        solvable(grid,annotation_tensor)\n",
    "\n",
    "    else:\n",
    "        return False"
   ],
   "metadata": {
    "collapsed": false,
    "pycharm": {
     "name": "#%%\n"
    }
   }
  },
  {
   "cell_type": "code",
   "execution_count": 223,
   "outputs": [],
   "source": [
    "def random_walk(grid) -> tuple:\n",
    "    # Searches grid randomly for non-zero entry\n",
    "    row, col = np.random.randint(0,9), np.random.randint(0,9)\n",
    "    while grid[row][col] == 0:\n",
    "        row, col = np.random.randint(0,9), np.random.randint(0,9)\n",
    "    return row,col"
   ],
   "metadata": {
    "collapsed": false,
    "pycharm": {
     "name": "#%%\n"
    }
   }
  },
  {
   "cell_type": "code",
   "execution_count": 224,
   "outputs": [
    {
     "name": "stdout",
     "output_type": "stream",
     "text": [
      "[[5 3 2 9 4 8 7 6 1]\n",
      " [1 6 4 3 5 7 9 2 8]\n",
      " [7 8 9 1 6 2 4 5 3]\n",
      " [9 5 6 4 8 1 2 3 7]\n",
      " [8 2 3 6 7 9 5 1 4]\n",
      " [4 7 1 5 2 3 8 9 6]\n",
      " [2 9 8 7 1 6 3 4 5]\n",
      " [6 4 7 2 3 5 1 8 9]\n",
      " [3 1 5 8 9 4 6 7 2]]\n"
     ]
    }
   ],
   "source": [
    "my_grid = deepcopy(my_sudoku.solution)\n",
    "print(my_grid)"
   ],
   "metadata": {
    "collapsed": false,
    "pycharm": {
     "name": "#%%\n"
    }
   }
  },
  {
   "cell_type": "code",
   "execution_count": 225,
   "outputs": [],
   "source": [
    "def set_sudoku(grid,nr_of_holes):\n",
    "    annotation_tensor = np.zeros((9,9,9),dtype = int)\n",
    "    set_annotations(grid,annotation_tensor)\n",
    "    nr_current_holes = 0\n",
    "    zero_positions = []\n",
    "    # Main loop\n",
    "    while nr_current_holes < nr_of_holes:\n",
    "        for position in zero_positions:\n",
    "            grid[position[0]][position[1]] = 0\n",
    "        row, col = random_walk(grid)\n",
    "        if solvable(grid,annotation_tensor):\n",
    "            nr_current_holes += 1\n",
    "            zero_positions.append([row,col])\n",
    "    # Final update\n",
    "    for positions in zero_positions:\n",
    "        grid[positions[0]][positions[1]] = 0\n"
   ],
   "metadata": {
    "collapsed": false,
    "pycharm": {
     "name": "#%%\n"
    }
   }
  },
  {
   "cell_type": "code",
   "execution_count": 226,
   "outputs": [
    {
     "ename": "IndexError",
     "evalue": "index 9 is out of bounds for axis 0 with size 9",
     "output_type": "error",
     "traceback": [
      "\u001B[0;31m---------------------------------------------------------------------------\u001B[0m",
      "\u001B[0;31mIndexError\u001B[0m                                Traceback (most recent call last)",
      "Input \u001B[0;32mIn [226]\u001B[0m, in \u001B[0;36m<cell line: 1>\u001B[0;34m()\u001B[0m\n\u001B[0;32m----> 1\u001B[0m \u001B[43mset_sudoku\u001B[49m\u001B[43m(\u001B[49m\u001B[43mmy_grid\u001B[49m\u001B[43m,\u001B[49m\u001B[38;5;241;43m2\u001B[39;49m\u001B[43m)\u001B[49m\n",
      "Input \u001B[0;32mIn [225]\u001B[0m, in \u001B[0;36mset_sudoku\u001B[0;34m(grid, nr_of_holes)\u001B[0m\n\u001B[1;32m      9\u001B[0m     grid[position[\u001B[38;5;241m0\u001B[39m]][position[\u001B[38;5;241m1\u001B[39m]] \u001B[38;5;241m=\u001B[39m \u001B[38;5;241m0\u001B[39m\n\u001B[1;32m     10\u001B[0m row, col \u001B[38;5;241m=\u001B[39m random_walk(grid)\n\u001B[0;32m---> 11\u001B[0m \u001B[38;5;28;01mif\u001B[39;00m \u001B[43msolvable\u001B[49m\u001B[43m(\u001B[49m\u001B[43mgrid\u001B[49m\u001B[43m,\u001B[49m\u001B[43mannotation_tensor\u001B[49m\u001B[43m)\u001B[49m:\n\u001B[1;32m     12\u001B[0m     nr_current_holes \u001B[38;5;241m+\u001B[39m\u001B[38;5;241m=\u001B[39m \u001B[38;5;241m1\u001B[39m\n\u001B[1;32m     13\u001B[0m     zero_positions\u001B[38;5;241m.\u001B[39mappend([row,col])\n",
      "Input \u001B[0;32mIn [222]\u001B[0m, in \u001B[0;36msolvable\u001B[0;34m(grid, annotation_tensor)\u001B[0m\n\u001B[1;32m      6\u001B[0m     \u001B[38;5;28;01melse\u001B[39;00m:\n\u001B[1;32m      7\u001B[0m         solvable(grid,annotation_tensor)\n\u001B[0;32m----> 9\u001B[0m \u001B[38;5;28;01melif\u001B[39;00m \u001B[43mhidden_singles\u001B[49m\u001B[43m(\u001B[49m\u001B[43mgrid\u001B[49m\u001B[43m,\u001B[49m\u001B[43mannotation_tensor\u001B[49m\u001B[43m)\u001B[49m:\n\u001B[1;32m     10\u001B[0m     \u001B[38;5;28;01mif\u001B[39;00m check_sudoku(grid):\n\u001B[1;32m     11\u001B[0m         \u001B[38;5;28;01mreturn\u001B[39;00m \u001B[38;5;28;01mTrue\u001B[39;00m\n",
      "Input \u001B[0;32mIn [218]\u001B[0m, in \u001B[0;36mhidden_singles\u001B[0;34m(grid, annotation_tensor)\u001B[0m\n\u001B[1;32m     52\u001B[0m \u001B[38;5;28;01mfor\u001B[39;00m i \u001B[38;5;129;01min\u001B[39;00m \u001B[38;5;28mrange\u001B[39m(\u001B[38;5;241m0\u001B[39m,\u001B[38;5;241m3\u001B[39m):\n\u001B[1;32m     53\u001B[0m     \u001B[38;5;28;01mfor\u001B[39;00m j \u001B[38;5;129;01min\u001B[39;00m \u001B[38;5;28mrange\u001B[39m(\u001B[38;5;241m0\u001B[39m,\u001B[38;5;241m3\u001B[39m):\n\u001B[0;32m---> 54\u001B[0m         \u001B[38;5;28;01mif\u001B[39;00m number \u001B[38;5;129;01min\u001B[39;00m \u001B[43mannotation_tensor\u001B[49m\u001B[43m[\u001B[49m\u001B[43mbox_x\u001B[49m\u001B[38;5;241;43m*\u001B[39;49m\u001B[38;5;241;43m3\u001B[39;49m\u001B[38;5;241;43m+\u001B[39;49m\u001B[43mi\u001B[49m\u001B[43m]\u001B[49m\u001B[43m[\u001B[49m\u001B[43mbox_y\u001B[49m\u001B[38;5;241;43m*\u001B[39;49m\u001B[38;5;241;43m3\u001B[39;49m\u001B[38;5;241;43m+\u001B[39;49m\u001B[43mj\u001B[49m\u001B[43m]\u001B[49m:\n\u001B[1;32m     55\u001B[0m             occurence_counter \u001B[38;5;241m+\u001B[39m\u001B[38;5;241m=\u001B[39m \u001B[38;5;241m1\u001B[39m\n\u001B[1;32m     56\u001B[0m             row_idx, col_idx   \u001B[38;5;241m=\u001B[39m box_x\u001B[38;5;241m*\u001B[39m\u001B[38;5;241m3\u001B[39m\u001B[38;5;241m+\u001B[39mi, box_y\u001B[38;5;241m*\u001B[39m\u001B[38;5;241m3\u001B[39m\u001B[38;5;241m+\u001B[39mj\n",
      "\u001B[0;31mIndexError\u001B[0m: index 9 is out of bounds for axis 0 with size 9"
     ]
    }
   ],
   "source": [
    "set_sudoku(my_grid,2)"
   ],
   "metadata": {
    "collapsed": false,
    "pycharm": {
     "name": "#%%\n"
    }
   }
  }
 ],
 "metadata": {
  "kernelspec": {
   "display_name": "Python 3",
   "language": "python",
   "name": "python3"
  },
  "language_info": {
   "codemirror_mode": {
    "name": "ipython",
    "version": 2
   },
   "file_extension": ".py",
   "mimetype": "text/x-python",
   "name": "python",
   "nbconvert_exporter": "python",
   "pygments_lexer": "ipython2",
   "version": "2.7.6"
  }
 },
 "nbformat": 4,
 "nbformat_minor": 0
}